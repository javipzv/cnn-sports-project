{
 "cells": [
  {
   "cell_type": "code",
   "execution_count": 6,
   "metadata": {},
   "outputs": [],
   "source": [
    "import os\n",
    "import shutil\n",
    "import pandas as pd"
   ]
  },
  {
   "cell_type": "code",
   "execution_count": 2,
   "metadata": {},
   "outputs": [],
   "source": [
    "folders_to_keep = ['basketball', 'golf', 'hockey', 'formula 1 racing', 'football', 'bowling', 'surfing', 'sumo wrestling', 'tennis', 'ice climbing']"
   ]
  },
  {
   "cell_type": "code",
   "execution_count": 3,
   "metadata": {},
   "outputs": [],
   "source": [
    "train_path = 'archive/train'\n",
    "valid_path = 'archive/valid'\n",
    "test_path = 'archive/test'"
   ]
  },
  {
   "cell_type": "code",
   "execution_count": 4,
   "metadata": {},
   "outputs": [],
   "source": [
    "for path in [train_path, valid_path, test_path]:\n",
    "    for folder in os.listdir(path):\n",
    "        if folder not in folders_to_keep:\n",
    "            folder_path = os.path.join(path, folder)\n",
    "            try:\n",
    "                shutil.rmtree(folder_path)  # Borra la carpeta y su contenido\n",
    "                print(f\"Borrado: {folder_path}\")\n",
    "            except Exception as e:\n",
    "                print(f\"Error al borrar {folder_path}: {e}\")"
   ]
  },
  {
   "cell_type": "code",
   "execution_count": 7,
   "metadata": {},
   "outputs": [],
   "source": [
    "df = pd.read_csv('archive/sports.csv')\n",
    "df = df[df['labels'].isin(folders_to_keep)]\n",
    "\n",
    "df.to_csv('archive/sports.csv', index=False)"
   ]
  }
 ],
 "metadata": {
  "kernelspec": {
   "display_name": "Python 3",
   "language": "python",
   "name": "python3"
  },
  "language_info": {
   "codemirror_mode": {
    "name": "ipython",
    "version": 3
   },
   "file_extension": ".py",
   "mimetype": "text/x-python",
   "name": "python",
   "nbconvert_exporter": "python",
   "pygments_lexer": "ipython3",
   "version": "3.9.6"
  }
 },
 "nbformat": 4,
 "nbformat_minor": 2
}
