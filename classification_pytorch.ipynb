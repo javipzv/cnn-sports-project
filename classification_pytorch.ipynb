{
  "cells": [
    {
      "cell_type": "markdown",
      "metadata": {
        "id": "OYF5oDD7S3lU"
      },
      "source": [
        "# Proyecto de Ciencia de Datos - Análisis de Imágenes\n",
        "\n",
        "Miembros del grupo:\n",
        "- Mario Ruiz Vaquett\n",
        "- Javier Pérez Vargas"
      ]
    },
    {
      "cell_type": "code",
      "source": [
        "from google.colab import drive\n",
        "drive.mount('/content/drive')"
      ],
      "metadata": {
        "colab": {
          "base_uri": "https://localhost:8080/"
        },
        "id": "v9HM3bIMTIwB",
        "outputId": "eeef80dc-1406-4a14-c9fe-8bf618023ff3"
      },
      "execution_count": 24,
      "outputs": [
        {
          "output_type": "stream",
          "name": "stdout",
          "text": [
            "Drive already mounted at /content/drive; to attempt to forcibly remount, call drive.mount(\"/content/drive\", force_remount=True).\n"
          ]
        }
      ]
    },
    {
      "cell_type": "markdown",
      "metadata": {
        "id": "JHjh0LztS3lW"
      },
      "source": [
        "## 0. Importación de librerías"
      ]
    },
    {
      "cell_type": "markdown",
      "metadata": {
        "id": "O-HFrCLaS3lX"
      },
      "source": [
        "Importamos las librerías que vamos a necesitar durante el cuaderno."
      ]
    },
    {
      "cell_type": "code",
      "execution_count": 25,
      "metadata": {
        "id": "gSMmHsHvJN-C"
      },
      "outputs": [],
      "source": [
        "import os\n",
        "import torch\n",
        "from torch.utils.data import Dataset, DataLoader\n",
        "from torchvision import transforms\n",
        "from PIL import Image\n",
        "import torch.nn as nn\n",
        "import numpy as np\n",
        "import pandas as pd\n",
        "import matplotlib.pyplot as plt\n",
        "import random"
      ]
    },
    {
      "cell_type": "markdown",
      "metadata": {
        "id": "PHqMucVzJN-D"
      },
      "source": [
        "## 1. Conjunto de Datos"
      ]
    },
    {
      "cell_type": "markdown",
      "metadata": {
        "id": "QbgQMxl8S3lZ"
      },
      "source": [
        "Para almacenar el dataset, utilizaremos la clase **Dataset** de PyTorch, que nos permite definir cómo cargar, transformar y acceder a nuestras imágenes de deporte de manera flexible y eficiente, integrándose fácilmente con el **DataLoader** para el manejo de lotes."
      ]
    },
    {
      "cell_type": "code",
      "execution_count": 26,
      "metadata": {
        "id": "XB-AeVmjJN-E"
      },
      "outputs": [],
      "source": [
        "class CustomImageDataset(Dataset):\n",
        "    def __init__(self, directory, transform=None):\n",
        "        self.directory = directory\n",
        "        self.transform = transform\n",
        "        self.image_paths = []\n",
        "        self.labels = []\n",
        "\n",
        "        # Obtener las clases (subdirectorios) y asignar un número\n",
        "        self.class_names = sorted(os.listdir(directory))\n",
        "        self.class_to_idx = {class_name: idx for idx, class_name in enumerate(self.class_names)}\n",
        "\n",
        "        # Recorremos las carpetas y archivos\n",
        "        for class_name in self.class_names:\n",
        "            class_path = os.path.join(directory, class_name)\n",
        "            if os.path.isdir(class_path):\n",
        "                for file_name in os.listdir(class_path):\n",
        "                    if file_name.endswith(('.jpg', '.png')):  # Filtra los tipos de archivo\n",
        "                        self.image_paths.append(os.path.join(class_path, file_name))\n",
        "                        self.labels.append(self.class_to_idx[class_name])\n",
        "\n",
        "    def __len__(self):\n",
        "        return len(self.image_paths)\n",
        "\n",
        "    def __getitem__(self, idx):\n",
        "        img_path = self.image_paths[idx]\n",
        "        label = self.labels[idx]\n",
        "        img = Image.open(img_path)\n",
        "\n",
        "        if self.transform:\n",
        "            img = self.transform(img)\n",
        "\n",
        "        return img, label"
      ]
    },
    {
      "cell_type": "markdown",
      "metadata": {
        "id": "VmH31QuYS3la"
      },
      "source": [
        "### 1.1. Transformaciones"
      ]
    },
    {
      "cell_type": "markdown",
      "metadata": {
        "id": "4gmeoeJtS3lb"
      },
      "source": [
        "Como observamos, la clase **CustomImageDataset** que acabamos de crear tiene un atributo denominado _transform_, el cual nos permite aplicar transformaciones personalizadas a las imágenes, como redimensionado, normalización o aumentos de datos, antes de ser procesadas por el modelo durante el entrenamiento o la validación. En nuestro caso tendremos dos:\n",
        "\n",
        "- **Original Transform**: En primer lugar, crearemos una instancia con las imágenes originales. De hecho, ni siquiera hace falta redimensionarlas pues ya están en la forma 224x224. Solamente las transformaremos en un tensor y las normalizaremos con los valores típicamente utilizados para ello.\n",
        "- **Augmented Transform**: Por otra parte, crearemos otra instancia del conjunto de datos pero aplicando la técnica de Data Augmentation. Esto quiere decir que cada época por la que pasa el modelo, las imágenes originales pueden estar rotadas, volteadas o con diferentes intensidades de brillo, contraste, etc... Con el objetivo de aumentar el conjunto de datos."
      ]
    },
    {
      "cell_type": "code",
      "execution_count": 27,
      "metadata": {
        "id": "IqkYAEHkJN-F"
      },
      "outputs": [],
      "source": [
        "original_transform = transforms.Compose([\n",
        "    transforms.ToTensor(),  # Convierte la imagen a un tensor\n",
        "    transforms.Normalize(mean=[0.485, 0.456, 0.406], std=[0.229, 0.224, 0.225])  # Normaliza la imagen\n",
        "])\n",
        "\n",
        "augmented_transform = transforms.Compose([\n",
        "    transforms.RandomHorizontalFlip(),  # Aplica un flip horizontal aleatorio\n",
        "    transforms.RandomRotation(30),  # Rota aleatoriamente la imagen entre -30 y 30 grados\n",
        "    transforms.ColorJitter(brightness=0.2, contrast=0.2, saturation=0.2, hue=0.2),  # Cambia aleatoriamente el brillo, el contraste, la saturación y el matiz\n",
        "    transforms.ToTensor(),\n",
        "    transforms.Normalize(mean=[0.485, 0.456, 0.406], std=[0.229, 0.224, 0.225])  # Normaliza la imagen\n",
        "])"
      ]
    },
    {
      "cell_type": "markdown",
      "metadata": {
        "id": "kereyOlGS3lc"
      },
      "source": [
        "### 1.2. Instancias de Datasets y DataLoaders"
      ]
    },
    {
      "cell_type": "markdown",
      "metadata": {
        "id": "ipIAXsP6S3lc"
      },
      "source": [
        "Así, ya podemos crear las instancias de los datasets. Como podemos observar, para el conjunto de validación y test solo creamos un conjunto con datos originales, pues queremos que representen la realidad al máximo posible."
      ]
    },
    {
      "cell_type": "code",
      "execution_count": 28,
      "metadata": {
        "id": "Pub1N-IoJN-F"
      },
      "outputs": [],
      "source": [
        "train_original_dataset = CustomImageDataset(directory='/content/drive/MyDrive/Colab Notebooks/archive/train', transform=original_transform)\n",
        "train_augmented_dataset = CustomImageDataset(directory='/content/drive/MyDrive/Colab Notebooks/archive/train', transform=augmented_transform)\n",
        "\n",
        "valid_original_dataset = CustomImageDataset(directory='/content/drive/MyDrive/Colab Notebooks/archive/valid', transform=original_transform)\n",
        "\n",
        "test_original_dataset = CustomImageDataset(directory='/content/drive/MyDrive/Colab Notebooks/archive/test', transform=original_transform)"
      ]
    },
    {
      "cell_type": "markdown",
      "metadata": {
        "id": "VP4WLoflS3lc"
      },
      "source": [
        "Posteriormente, definimos los DataLoaders, que nos permitirán cargar los datos, gestionando automáticamente el procesamiento en lotes y el shuffle de las muestras. Hemos decidido utilizar un tamaño de batch de 16."
      ]
    },
    {
      "cell_type": "code",
      "execution_count": 29,
      "metadata": {
        "id": "NRYKGlQVS3lc"
      },
      "outputs": [],
      "source": [
        "def set_seed(seed):\n",
        "    torch.manual_seed(seed)\n",
        "    torch.cuda.manual_seed(seed)\n",
        "    torch.cuda.manual_seed_all(seed)  # Si usas múltiples GPUs\n",
        "    np.random.seed(seed)\n",
        "    random.seed(seed)\n",
        "    torch.backends.cudnn.deterministic = True\n",
        "    torch.backends.cudnn.benchmark = False\n",
        "\n",
        "set_seed(0)"
      ]
    },
    {
      "cell_type": "code",
      "execution_count": 30,
      "metadata": {
        "id": "DqMBvJhpJN-F"
      },
      "outputs": [],
      "source": [
        "train_original_loader = DataLoader(dataset=train_original_dataset, batch_size=16, shuffle=True)\n",
        "train_augmented_loader = DataLoader(dataset=train_augmented_dataset, batch_size=16, shuffle=True)\n",
        "\n",
        "valid_original_loader = DataLoader(dataset=valid_original_dataset, batch_size=16, shuffle=False)\n",
        "\n",
        "test_original_loader = DataLoader(dataset=test_original_dataset, batch_size=16, shuffle=False)"
      ]
    },
    {
      "cell_type": "markdown",
      "metadata": {
        "id": "Z4SHgDcOS3ld"
      },
      "source": [
        "## 2. Entrenamiento"
      ]
    },
    {
      "cell_type": "markdown",
      "metadata": {
        "id": "IA0I9P43S3ld"
      },
      "source": [
        "### 2.1. Elección"
      ]
    },
    {
      "cell_type": "markdown",
      "metadata": {
        "id": "9mg2BCCfS3ld"
      },
      "source": [
        "Para entrenar hemos creado 3 modelos en el archivo _models.py_:\n",
        "1. Un modelo de CNN clásico, básico y poco profundo.\n",
        "2. Un modelo más profundo que incluye capas residuales.\n",
        "3. Un modelo que utiliza Transfer Learning para utilizar la potencia de DenseNet, red preentrenada."
      ]
    },
    {
      "cell_type": "code",
      "execution_count": 31,
      "metadata": {
        "colab": {
          "base_uri": "https://localhost:8080/"
        },
        "id": "WRf4obD_S3ld",
        "outputId": "f4da9ddf-7fa1-4e7e-ec53-39a6dca71acc"
      },
      "outputs": [
        {
          "output_type": "stream",
          "name": "stdout",
          "text": [
            "Elija el modelo a utilizar: \n",
            "1. MyCNN\n",
            "2. MyResidualNet\n",
            "3. MyCNNWithTransferLearning\n",
            "2\n",
            "Modelo seleccionado: MyResidualNet\n"
          ]
        }
      ],
      "source": [
        "from models import MyCNN, MyResidualNet, MyCNNWithTransferLearning\n",
        "\n",
        "models = {1: MyCNN, 2: MyResidualNet, 3: MyCNNWithTransferLearning}\n",
        "eleccion = int(input(\"Elija el modelo a utilizar: \\n1. MyCNN\\n2. MyResidualNet\\n3. MyCNNWithTransferLearning\\n\"))\n",
        "\n",
        "if eleccion in [1, 2, 3]:\n",
        "    model = models[eleccion]()\n",
        "    print(f\"Modelo seleccionado: {model.__class__.__name__}\")\n",
        "else:\n",
        "    print(\"Modelo no válido\")\n",
        "    exit()"
      ]
    },
    {
      "cell_type": "markdown",
      "metadata": {
        "id": "E9mW_MFZS3le"
      },
      "source": [
        "También añadimos la opción de usar el conjunto de datos original o augmented."
      ]
    },
    {
      "cell_type": "code",
      "execution_count": 32,
      "metadata": {
        "colab": {
          "base_uri": "https://localhost:8080/"
        },
        "id": "L2p-FI7QS3le",
        "outputId": "64aa4834-ecfb-4fc2-adb0-5594d0a0327c"
      },
      "outputs": [
        {
          "output_type": "stream",
          "name": "stdout",
          "text": [
            "Elija el dataset a utilizar: \n",
            "1. Original\n",
            "2. Augmented\n",
            "2\n",
            "Dataset seleccionado: Augmented\n"
          ]
        }
      ],
      "source": [
        "datasets = {'original': train_original_loader, 'augmented': train_augmented_loader}\n",
        "eleccion = int(input(\"Elija el dataset a utilizar: \\n1. Original\\n2. Augmented\\n\"))\n",
        "\n",
        "if eleccion in [1, 2]:\n",
        "    dataset = datasets['original' if eleccion == 1 else 'augmented']\n",
        "    print(f\"Dataset seleccionado: {'Original' if eleccion == 1 else 'Augmented'}\")\n",
        "else:\n",
        "    print(\"Dataset no válido\")\n",
        "    exit()"
      ]
    },
    {
      "cell_type": "markdown",
      "metadata": {
        "id": "BZA3NZo9S3le"
      },
      "source": [
        "Definimos el device donde vamos a ejecutar el entrenamiento"
      ]
    },
    {
      "cell_type": "code",
      "execution_count": 33,
      "metadata": {
        "colab": {
          "base_uri": "https://localhost:8080/"
        },
        "id": "v32GaQpMJN-G",
        "outputId": "bd417a22-d590-49ad-fb3b-7c61d2cbc766"
      },
      "outputs": [
        {
          "output_type": "stream",
          "name": "stdout",
          "text": [
            "cuda\n"
          ]
        }
      ],
      "source": [
        "device = \"cuda\" if torch.cuda.is_available() else \"cpu\"\n",
        "print(device)"
      ]
    },
    {
      "cell_type": "markdown",
      "metadata": {
        "id": "c08oxJW8S3le"
      },
      "source": [
        "Además, podemos ver las diferentes capas del modelo:"
      ]
    },
    {
      "cell_type": "code",
      "execution_count": 34,
      "metadata": {
        "colab": {
          "base_uri": "https://localhost:8080/"
        },
        "id": "HOjAcodSS3lf",
        "outputId": "90c2e4e2-d222-481b-842f-2a0b77f8ecce"
      },
      "outputs": [
        {
          "output_type": "stream",
          "name": "stdout",
          "text": [
            "MyResidualNet(\n",
            "  (conv1): Conv2d(3, 32, kernel_size=(3, 3), stride=(1, 1), padding=(1, 1))\n",
            "  (bn1): BatchNorm2d(32, eps=1e-05, momentum=0.1, affine=True, track_running_stats=True)\n",
            "  (maxpool): MaxPool2d(kernel_size=2, stride=2, padding=0, dilation=1, ceil_mode=False)\n",
            "  (res_block1): ResidualBlock(\n",
            "    (conv1): Conv2d(32, 64, kernel_size=(3, 3), stride=(2, 2), padding=(1, 1))\n",
            "    (bn1): BatchNorm2d(64, eps=1e-05, momentum=0.1, affine=True, track_running_stats=True)\n",
            "    (conv2): Conv2d(64, 64, kernel_size=(3, 3), stride=(1, 1), padding=(1, 1))\n",
            "    (bn2): BatchNorm2d(64, eps=1e-05, momentum=0.1, affine=True, track_running_stats=True)\n",
            "    (shortcut): Conv2d(32, 64, kernel_size=(1, 1), stride=(2, 2))\n",
            "  )\n",
            "  (res_block2): ResidualBlock(\n",
            "    (conv1): Conv2d(64, 128, kernel_size=(3, 3), stride=(2, 2), padding=(1, 1))\n",
            "    (bn1): BatchNorm2d(128, eps=1e-05, momentum=0.1, affine=True, track_running_stats=True)\n",
            "    (conv2): Conv2d(128, 128, kernel_size=(3, 3), stride=(1, 1), padding=(1, 1))\n",
            "    (bn2): BatchNorm2d(128, eps=1e-05, momentum=0.1, affine=True, track_running_stats=True)\n",
            "    (shortcut): Conv2d(64, 128, kernel_size=(1, 1), stride=(2, 2))\n",
            "  )\n",
            "  (fc2): Linear(in_features=256, out_features=128, bias=True)\n",
            "  (fc_out): Linear(in_features=128, out_features=10, bias=True)\n",
            "  (dropout): Dropout(p=0.5, inplace=False)\n",
            ")\n"
          ]
        }
      ],
      "source": [
        "model = model.to(device)\n",
        "print(model)"
      ]
    },
    {
      "cell_type": "markdown",
      "metadata": {
        "id": "xu-QJwKbS3lf"
      },
      "source": [
        "### 2.2. Hiperparámetros"
      ]
    },
    {
      "cell_type": "markdown",
      "metadata": {
        "id": "zdMQwvptS3lf"
      },
      "source": [
        "En la siguiente celda podemos modificar los principales hiperparámetros del entrenamiento."
      ]
    },
    {
      "cell_type": "code",
      "execution_count": 35,
      "metadata": {
        "id": "vv9z-EPxJN-H"
      },
      "outputs": [],
      "source": [
        "# Loss function\n",
        "loss_fn = nn.CrossEntropyLoss()\n",
        "\n",
        "# Learning rate\n",
        "learning_rate = 1e-3\n",
        "\n",
        "# Batch size\n",
        "batch_size = 64\n",
        "\n",
        "# Optimizer\n",
        "optimizer = torch.optim.Adam(params=model.parameters(), lr=learning_rate)\n",
        "\n",
        "# Number of epochs\n",
        "num_epochs = 50"
      ]
    },
    {
      "cell_type": "markdown",
      "metadata": {
        "id": "lZHSl5_FS3lf"
      },
      "source": [
        "### 2.3. Pasos de entrenamiento y validación"
      ]
    },
    {
      "cell_type": "markdown",
      "metadata": {
        "id": "k3Abs4G3S3lf"
      },
      "source": [
        "En la siguiente función se define un paso de entrenamiento sobre el conjunto de datos."
      ]
    },
    {
      "cell_type": "code",
      "execution_count": 36,
      "metadata": {
        "id": "1tSh3rpbJN-H"
      },
      "outputs": [],
      "source": [
        "def train_step(dataloader, model, loss_fn, optimizer):\n",
        "    size = len(dataloader.dataset)\n",
        "\n",
        "    acc_list = [] # Accuracy list\n",
        "    loss_list = [] # Loss list\n",
        "\n",
        "    model.train()\n",
        "    for batch_idx, (X, y) in enumerate(dataloader):\n",
        "        # Move tensors to the configured device\n",
        "        X, y = X.to(device), y.to(device)\n",
        "\n",
        "        # Compute prediction and loss\n",
        "        logits = model(X)\n",
        "        loss = loss_fn(logits, y)\n",
        "        correct = (logits.argmax(1) == y).type(torch.float).sum().item()\n",
        "        correct /= len(X)\n",
        "\n",
        "        # Backpropagation\n",
        "        loss.backward()\n",
        "        optimizer.step()\n",
        "        optimizer.zero_grad()\n",
        "\n",
        "        # Save the accuracy and loss\n",
        "        loss_list.append(loss.item())\n",
        "        acc_list.append(100*correct)\n",
        "\n",
        "        if batch_idx % 10 == 0:\n",
        "          current = batch_idx * len(X) + len(X)\n",
        "          loss = loss.item()\n",
        "          print(f\"TRAINING: Avg. Accuracy {(100*correct):>0.3f}    Avg. Loss: {loss:>7f}    Range: [{current:>5d}/{size:>5d}]\")\n",
        "\n",
        "    return np.average(acc_list), np.average(loss_list)"
      ]
    },
    {
      "cell_type": "markdown",
      "metadata": {
        "id": "aKx8pmahS3lg"
      },
      "source": [
        "En esta otra función se define el validation_step."
      ]
    },
    {
      "cell_type": "code",
      "execution_count": 37,
      "metadata": {
        "id": "JPKEQJJTJN-I"
      },
      "outputs": [],
      "source": [
        "def validation_step(dataloader, model, loss_fn):\n",
        "    model.eval()\n",
        "\n",
        "    size = len(dataloader.dataset)\n",
        "    num_batches = len(dataloader)\n",
        "    val_loss, correct = 0, 0\n",
        "\n",
        "    # Evaluate the model\n",
        "    with torch.no_grad():\n",
        "        for X, y in dataloader:\n",
        "            # Move tensors to device\n",
        "            X, y = X.to(device), y.to(device)\n",
        "\n",
        "            # Compute prediction and loss\n",
        "            logits = model(X)\n",
        "            val_loss += loss_fn(logits, y).item()\n",
        "            correct += (logits.argmax(1) == y).type(torch.float).sum().item()\n",
        "\n",
        "    val_loss /= num_batches\n",
        "    correct /= size\n",
        "    val_accuracy = 100*correct\n",
        "    print(f\"\\n   VALIDATION: Accuracy: {(val_accuracy):>0.3f}%, Avg loss: {val_loss:>8f} \\n\")\n",
        "    return val_accuracy, val_loss"
      ]
    },
    {
      "cell_type": "markdown",
      "metadata": {
        "id": "4_k1GAyuS3lg"
      },
      "source": [
        "Finalmente, procedemos a entrenar nuestro modelo elegido. Como se observa, también guardamos las métricas de accuracy y la pérdida a lo largo de las épocas, con la intención de graficarlas posteriormente."
      ]
    },
    {
      "cell_type": "code",
      "execution_count": 38,
      "metadata": {
        "colab": {
          "base_uri": "https://localhost:8080/"
        },
        "id": "5FwiMBpIJN-I",
        "outputId": "a158ffca-3edc-4655-8424-f7cb8b29f74c"
      },
      "outputs": [
        {
          "output_type": "stream",
          "name": "stdout",
          "text": [
            "Epoch 1\n",
            "-------------------------------\n",
            "TRAINING: Avg. Accuracy 6.250    Avg. Loss: 2.358781    Range: [   16/ 1535]\n",
            "TRAINING: Avg. Accuracy 25.000    Avg. Loss: 2.224179    Range: [  176/ 1535]\n",
            "TRAINING: Avg. Accuracy 6.250    Avg. Loss: 2.358407    Range: [  336/ 1535]\n",
            "TRAINING: Avg. Accuracy 12.500    Avg. Loss: 2.271789    Range: [  496/ 1535]\n",
            "TRAINING: Avg. Accuracy 12.500    Avg. Loss: 2.260349    Range: [  656/ 1535]\n",
            "TRAINING: Avg. Accuracy 25.000    Avg. Loss: 2.081767    Range: [  816/ 1535]\n",
            "TRAINING: Avg. Accuracy 25.000    Avg. Loss: 1.981779    Range: [  976/ 1535]\n",
            "TRAINING: Avg. Accuracy 12.500    Avg. Loss: 2.172452    Range: [ 1136/ 1535]\n",
            "TRAINING: Avg. Accuracy 25.000    Avg. Loss: 2.263156    Range: [ 1296/ 1535]\n",
            "TRAINING: Avg. Accuracy 25.000    Avg. Loss: 1.937465    Range: [ 1456/ 1535]\n",
            "\n",
            "   VALIDATION: Accuracy: 34.000%, Avg loss: 1.914789 \n",
            "\n",
            "Epoch 2\n",
            "-------------------------------\n",
            "TRAINING: Avg. Accuracy 37.500    Avg. Loss: 1.723837    Range: [   16/ 1535]\n",
            "TRAINING: Avg. Accuracy 68.750    Avg. Loss: 1.382621    Range: [  176/ 1535]\n",
            "TRAINING: Avg. Accuracy 37.500    Avg. Loss: 1.715183    Range: [  336/ 1535]\n",
            "TRAINING: Avg. Accuracy 50.000    Avg. Loss: 1.494897    Range: [  496/ 1535]\n",
            "TRAINING: Avg. Accuracy 18.750    Avg. Loss: 1.670391    Range: [  656/ 1535]\n",
            "TRAINING: Avg. Accuracy 31.250    Avg. Loss: 1.811443    Range: [  816/ 1535]\n",
            "TRAINING: Avg. Accuracy 43.750    Avg. Loss: 1.675811    Range: [  976/ 1535]\n",
            "TRAINING: Avg. Accuracy 43.750    Avg. Loss: 1.644817    Range: [ 1136/ 1535]\n",
            "TRAINING: Avg. Accuracy 31.250    Avg. Loss: 2.055297    Range: [ 1296/ 1535]\n",
            "TRAINING: Avg. Accuracy 25.000    Avg. Loss: 1.795773    Range: [ 1456/ 1535]\n",
            "\n",
            "   VALIDATION: Accuracy: 56.000%, Avg loss: 1.579079 \n",
            "\n",
            "Epoch 3\n",
            "-------------------------------\n",
            "TRAINING: Avg. Accuracy 56.250    Avg. Loss: 1.593354    Range: [   16/ 1535]\n",
            "TRAINING: Avg. Accuracy 43.750    Avg. Loss: 1.674128    Range: [  176/ 1535]\n",
            "TRAINING: Avg. Accuracy 18.750    Avg. Loss: 1.787636    Range: [  336/ 1535]\n",
            "TRAINING: Avg. Accuracy 62.500    Avg. Loss: 1.549187    Range: [  496/ 1535]\n",
            "TRAINING: Avg. Accuracy 81.250    Avg. Loss: 1.070798    Range: [  656/ 1535]\n",
            "TRAINING: Avg. Accuracy 50.000    Avg. Loss: 1.643586    Range: [  816/ 1535]\n",
            "TRAINING: Avg. Accuracy 62.500    Avg. Loss: 1.269793    Range: [  976/ 1535]\n",
            "TRAINING: Avg. Accuracy 56.250    Avg. Loss: 1.602449    Range: [ 1136/ 1535]\n",
            "TRAINING: Avg. Accuracy 31.250    Avg. Loss: 2.162683    Range: [ 1296/ 1535]\n",
            "TRAINING: Avg. Accuracy 56.250    Avg. Loss: 1.521444    Range: [ 1456/ 1535]\n",
            "\n",
            "   VALIDATION: Accuracy: 62.000%, Avg loss: 1.496157 \n",
            "\n",
            "Epoch 4\n",
            "-------------------------------\n",
            "TRAINING: Avg. Accuracy 56.250    Avg. Loss: 1.487365    Range: [   16/ 1535]\n",
            "TRAINING: Avg. Accuracy 50.000    Avg. Loss: 1.285981    Range: [  176/ 1535]\n",
            "TRAINING: Avg. Accuracy 50.000    Avg. Loss: 1.276471    Range: [  336/ 1535]\n",
            "TRAINING: Avg. Accuracy 37.500    Avg. Loss: 1.490693    Range: [  496/ 1535]\n",
            "TRAINING: Avg. Accuracy 68.750    Avg. Loss: 1.069504    Range: [  656/ 1535]\n",
            "TRAINING: Avg. Accuracy 31.250    Avg. Loss: 1.552688    Range: [  816/ 1535]\n",
            "TRAINING: Avg. Accuracy 43.750    Avg. Loss: 1.431200    Range: [  976/ 1535]\n",
            "TRAINING: Avg. Accuracy 43.750    Avg. Loss: 1.368037    Range: [ 1136/ 1535]\n",
            "TRAINING: Avg. Accuracy 62.500    Avg. Loss: 1.433764    Range: [ 1296/ 1535]\n",
            "TRAINING: Avg. Accuracy 68.750    Avg. Loss: 1.220244    Range: [ 1456/ 1535]\n",
            "\n",
            "   VALIDATION: Accuracy: 56.000%, Avg loss: 1.434053 \n",
            "\n",
            "Epoch 5\n",
            "-------------------------------\n",
            "TRAINING: Avg. Accuracy 56.250    Avg. Loss: 1.458828    Range: [   16/ 1535]\n",
            "TRAINING: Avg. Accuracy 31.250    Avg. Loss: 1.336779    Range: [  176/ 1535]\n",
            "TRAINING: Avg. Accuracy 56.250    Avg. Loss: 1.129406    Range: [  336/ 1535]\n",
            "TRAINING: Avg. Accuracy 43.750    Avg. Loss: 1.348238    Range: [  496/ 1535]\n",
            "TRAINING: Avg. Accuracy 43.750    Avg. Loss: 1.253189    Range: [  656/ 1535]\n",
            "TRAINING: Avg. Accuracy 62.500    Avg. Loss: 1.406390    Range: [  816/ 1535]\n",
            "TRAINING: Avg. Accuracy 43.750    Avg. Loss: 1.127334    Range: [  976/ 1535]\n",
            "TRAINING: Avg. Accuracy 50.000    Avg. Loss: 1.285127    Range: [ 1136/ 1535]\n",
            "TRAINING: Avg. Accuracy 56.250    Avg. Loss: 1.208898    Range: [ 1296/ 1535]\n",
            "TRAINING: Avg. Accuracy 81.250    Avg. Loss: 0.910426    Range: [ 1456/ 1535]\n",
            "\n",
            "   VALIDATION: Accuracy: 64.000%, Avg loss: 1.451110 \n",
            "\n",
            "Epoch 6\n",
            "-------------------------------\n",
            "TRAINING: Avg. Accuracy 62.500    Avg. Loss: 1.155650    Range: [   16/ 1535]\n",
            "TRAINING: Avg. Accuracy 68.750    Avg. Loss: 1.226014    Range: [  176/ 1535]\n",
            "TRAINING: Avg. Accuracy 50.000    Avg. Loss: 1.154532    Range: [  336/ 1535]\n",
            "TRAINING: Avg. Accuracy 56.250    Avg. Loss: 1.131600    Range: [  496/ 1535]\n",
            "TRAINING: Avg. Accuracy 56.250    Avg. Loss: 1.233853    Range: [  656/ 1535]\n",
            "TRAINING: Avg. Accuracy 50.000    Avg. Loss: 1.696007    Range: [  816/ 1535]\n",
            "TRAINING: Avg. Accuracy 62.500    Avg. Loss: 1.013672    Range: [  976/ 1535]\n",
            "TRAINING: Avg. Accuracy 50.000    Avg. Loss: 1.531064    Range: [ 1136/ 1535]\n",
            "TRAINING: Avg. Accuracy 50.000    Avg. Loss: 1.179816    Range: [ 1296/ 1535]\n",
            "TRAINING: Avg. Accuracy 68.750    Avg. Loss: 1.043094    Range: [ 1456/ 1535]\n",
            "\n",
            "   VALIDATION: Accuracy: 52.000%, Avg loss: 1.643388 \n",
            "\n",
            "Epoch 7\n",
            "-------------------------------\n",
            "TRAINING: Avg. Accuracy 37.500    Avg. Loss: 1.484428    Range: [   16/ 1535]\n",
            "TRAINING: Avg. Accuracy 50.000    Avg. Loss: 1.410010    Range: [  176/ 1535]\n",
            "TRAINING: Avg. Accuracy 75.000    Avg. Loss: 1.147218    Range: [  336/ 1535]\n",
            "TRAINING: Avg. Accuracy 56.250    Avg. Loss: 1.329859    Range: [  496/ 1535]\n",
            "TRAINING: Avg. Accuracy 50.000    Avg. Loss: 1.333655    Range: [  656/ 1535]\n",
            "TRAINING: Avg. Accuracy 56.250    Avg. Loss: 0.964183    Range: [  816/ 1535]\n",
            "TRAINING: Avg. Accuracy 68.750    Avg. Loss: 1.000831    Range: [  976/ 1535]\n",
            "TRAINING: Avg. Accuracy 56.250    Avg. Loss: 1.084521    Range: [ 1136/ 1535]\n",
            "TRAINING: Avg. Accuracy 50.000    Avg. Loss: 1.386528    Range: [ 1296/ 1535]\n",
            "TRAINING: Avg. Accuracy 62.500    Avg. Loss: 1.235766    Range: [ 1456/ 1535]\n",
            "\n",
            "   VALIDATION: Accuracy: 78.000%, Avg loss: 1.223313 \n",
            "\n",
            "Epoch 8\n",
            "-------------------------------\n",
            "TRAINING: Avg. Accuracy 75.000    Avg. Loss: 1.006150    Range: [   16/ 1535]\n",
            "TRAINING: Avg. Accuracy 68.750    Avg. Loss: 1.071144    Range: [  176/ 1535]\n",
            "TRAINING: Avg. Accuracy 56.250    Avg. Loss: 1.046273    Range: [  336/ 1535]\n",
            "TRAINING: Avg. Accuracy 62.500    Avg. Loss: 1.302166    Range: [  496/ 1535]\n",
            "TRAINING: Avg. Accuracy 50.000    Avg. Loss: 1.197057    Range: [  656/ 1535]\n",
            "TRAINING: Avg. Accuracy 56.250    Avg. Loss: 1.286901    Range: [  816/ 1535]\n",
            "TRAINING: Avg. Accuracy 62.500    Avg. Loss: 1.016042    Range: [  976/ 1535]\n",
            "TRAINING: Avg. Accuracy 31.250    Avg. Loss: 2.262547    Range: [ 1136/ 1535]\n",
            "TRAINING: Avg. Accuracy 37.500    Avg. Loss: 1.398795    Range: [ 1296/ 1535]\n",
            "TRAINING: Avg. Accuracy 43.750    Avg. Loss: 1.804623    Range: [ 1456/ 1535]\n",
            "\n",
            "   VALIDATION: Accuracy: 70.000%, Avg loss: 1.303198 \n",
            "\n",
            "Epoch 9\n",
            "-------------------------------\n",
            "TRAINING: Avg. Accuracy 43.750    Avg. Loss: 1.478237    Range: [   16/ 1535]\n",
            "TRAINING: Avg. Accuracy 75.000    Avg. Loss: 0.768056    Range: [  176/ 1535]\n",
            "TRAINING: Avg. Accuracy 62.500    Avg. Loss: 1.103662    Range: [  336/ 1535]\n",
            "TRAINING: Avg. Accuracy 75.000    Avg. Loss: 0.929699    Range: [  496/ 1535]\n",
            "TRAINING: Avg. Accuracy 25.000    Avg. Loss: 1.511042    Range: [  656/ 1535]\n",
            "TRAINING: Avg. Accuracy 56.250    Avg. Loss: 1.218591    Range: [  816/ 1535]\n",
            "TRAINING: Avg. Accuracy 50.000    Avg. Loss: 1.380640    Range: [  976/ 1535]\n",
            "TRAINING: Avg. Accuracy 62.500    Avg. Loss: 0.973374    Range: [ 1136/ 1535]\n",
            "TRAINING: Avg. Accuracy 43.750    Avg. Loss: 1.440751    Range: [ 1296/ 1535]\n",
            "TRAINING: Avg. Accuracy 62.500    Avg. Loss: 1.622887    Range: [ 1456/ 1535]\n",
            "\n",
            "   VALIDATION: Accuracy: 72.000%, Avg loss: 1.185016 \n",
            "\n",
            "Epoch 10\n",
            "-------------------------------\n",
            "TRAINING: Avg. Accuracy 62.500    Avg. Loss: 1.112516    Range: [   16/ 1535]\n",
            "TRAINING: Avg. Accuracy 56.250    Avg. Loss: 1.130175    Range: [  176/ 1535]\n",
            "TRAINING: Avg. Accuracy 56.250    Avg. Loss: 1.277198    Range: [  336/ 1535]\n",
            "TRAINING: Avg. Accuracy 62.500    Avg. Loss: 1.296044    Range: [  496/ 1535]\n",
            "TRAINING: Avg. Accuracy 56.250    Avg. Loss: 1.130485    Range: [  656/ 1535]\n",
            "TRAINING: Avg. Accuracy 56.250    Avg. Loss: 1.640094    Range: [  816/ 1535]\n",
            "TRAINING: Avg. Accuracy 62.500    Avg. Loss: 0.973234    Range: [  976/ 1535]\n",
            "TRAINING: Avg. Accuracy 43.750    Avg. Loss: 1.589463    Range: [ 1136/ 1535]\n",
            "TRAINING: Avg. Accuracy 68.750    Avg. Loss: 0.863801    Range: [ 1296/ 1535]\n",
            "TRAINING: Avg. Accuracy 43.750    Avg. Loss: 1.146404    Range: [ 1456/ 1535]\n",
            "\n",
            "   VALIDATION: Accuracy: 76.000%, Avg loss: 1.210557 \n",
            "\n",
            "Epoch 11\n",
            "-------------------------------\n",
            "TRAINING: Avg. Accuracy 50.000    Avg. Loss: 1.487996    Range: [   16/ 1535]\n",
            "TRAINING: Avg. Accuracy 37.500    Avg. Loss: 1.524130    Range: [  176/ 1535]\n",
            "TRAINING: Avg. Accuracy 56.250    Avg. Loss: 1.169612    Range: [  336/ 1535]\n",
            "TRAINING: Avg. Accuracy 68.750    Avg. Loss: 1.069627    Range: [  496/ 1535]\n",
            "TRAINING: Avg. Accuracy 43.750    Avg. Loss: 1.234035    Range: [  656/ 1535]\n",
            "TRAINING: Avg. Accuracy 43.750    Avg. Loss: 1.487055    Range: [  816/ 1535]\n",
            "TRAINING: Avg. Accuracy 50.000    Avg. Loss: 1.181034    Range: [  976/ 1535]\n",
            "TRAINING: Avg. Accuracy 31.250    Avg. Loss: 1.682876    Range: [ 1136/ 1535]\n",
            "TRAINING: Avg. Accuracy 56.250    Avg. Loss: 1.202125    Range: [ 1296/ 1535]\n",
            "TRAINING: Avg. Accuracy 56.250    Avg. Loss: 1.258559    Range: [ 1456/ 1535]\n",
            "\n",
            "   VALIDATION: Accuracy: 72.000%, Avg loss: 1.298573 \n",
            "\n",
            "Epoch 12\n",
            "-------------------------------\n",
            "TRAINING: Avg. Accuracy 75.000    Avg. Loss: 1.003814    Range: [   16/ 1535]\n",
            "TRAINING: Avg. Accuracy 75.000    Avg. Loss: 0.903221    Range: [  176/ 1535]\n",
            "TRAINING: Avg. Accuracy 56.250    Avg. Loss: 1.011849    Range: [  336/ 1535]\n",
            "TRAINING: Avg. Accuracy 56.250    Avg. Loss: 1.124884    Range: [  496/ 1535]\n",
            "TRAINING: Avg. Accuracy 75.000    Avg. Loss: 0.889214    Range: [  656/ 1535]\n",
            "TRAINING: Avg. Accuracy 56.250    Avg. Loss: 1.156572    Range: [  816/ 1535]\n",
            "TRAINING: Avg. Accuracy 56.250    Avg. Loss: 1.378908    Range: [  976/ 1535]\n",
            "TRAINING: Avg. Accuracy 81.250    Avg. Loss: 0.563003    Range: [ 1136/ 1535]\n",
            "TRAINING: Avg. Accuracy 68.750    Avg. Loss: 1.023620    Range: [ 1296/ 1535]\n",
            "TRAINING: Avg. Accuracy 68.750    Avg. Loss: 0.911740    Range: [ 1456/ 1535]\n",
            "\n",
            "   VALIDATION: Accuracy: 66.000%, Avg loss: 1.365101 \n",
            "\n",
            "Epoch 13\n",
            "-------------------------------\n",
            "TRAINING: Avg. Accuracy 75.000    Avg. Loss: 0.774834    Range: [   16/ 1535]\n",
            "TRAINING: Avg. Accuracy 50.000    Avg. Loss: 1.199017    Range: [  176/ 1535]\n",
            "TRAINING: Avg. Accuracy 43.750    Avg. Loss: 1.470333    Range: [  336/ 1535]\n",
            "TRAINING: Avg. Accuracy 56.250    Avg. Loss: 1.122047    Range: [  496/ 1535]\n",
            "TRAINING: Avg. Accuracy 50.000    Avg. Loss: 1.353276    Range: [  656/ 1535]\n",
            "TRAINING: Avg. Accuracy 75.000    Avg. Loss: 1.174054    Range: [  816/ 1535]\n",
            "TRAINING: Avg. Accuracy 50.000    Avg. Loss: 1.411590    Range: [  976/ 1535]\n",
            "TRAINING: Avg. Accuracy 43.750    Avg. Loss: 1.427454    Range: [ 1136/ 1535]\n",
            "TRAINING: Avg. Accuracy 56.250    Avg. Loss: 1.258881    Range: [ 1296/ 1535]\n",
            "TRAINING: Avg. Accuracy 68.750    Avg. Loss: 0.987151    Range: [ 1456/ 1535]\n",
            "\n",
            "   VALIDATION: Accuracy: 72.000%, Avg loss: 1.150355 \n",
            "\n",
            "Epoch 14\n",
            "-------------------------------\n",
            "TRAINING: Avg. Accuracy 62.500    Avg. Loss: 1.323243    Range: [   16/ 1535]\n",
            "TRAINING: Avg. Accuracy 50.000    Avg. Loss: 1.504283    Range: [  176/ 1535]\n",
            "TRAINING: Avg. Accuracy 68.750    Avg. Loss: 0.756397    Range: [  336/ 1535]\n",
            "TRAINING: Avg. Accuracy 62.500    Avg. Loss: 1.031295    Range: [  496/ 1535]\n",
            "TRAINING: Avg. Accuracy 50.000    Avg. Loss: 1.120405    Range: [  656/ 1535]\n",
            "TRAINING: Avg. Accuracy 62.500    Avg. Loss: 0.937106    Range: [  816/ 1535]\n",
            "TRAINING: Avg. Accuracy 62.500    Avg. Loss: 1.138965    Range: [  976/ 1535]\n",
            "TRAINING: Avg. Accuracy 68.750    Avg. Loss: 0.826204    Range: [ 1136/ 1535]\n",
            "TRAINING: Avg. Accuracy 81.250    Avg. Loss: 0.919443    Range: [ 1296/ 1535]\n",
            "TRAINING: Avg. Accuracy 56.250    Avg. Loss: 1.335678    Range: [ 1456/ 1535]\n",
            "\n",
            "   VALIDATION: Accuracy: 68.000%, Avg loss: 1.301497 \n",
            "\n",
            "Epoch 15\n",
            "-------------------------------\n",
            "TRAINING: Avg. Accuracy 50.000    Avg. Loss: 1.227390    Range: [   16/ 1535]\n",
            "TRAINING: Avg. Accuracy 81.250    Avg. Loss: 0.732467    Range: [  176/ 1535]\n",
            "TRAINING: Avg. Accuracy 50.000    Avg. Loss: 1.166674    Range: [  336/ 1535]\n",
            "TRAINING: Avg. Accuracy 62.500    Avg. Loss: 1.052051    Range: [  496/ 1535]\n",
            "TRAINING: Avg. Accuracy 87.500    Avg. Loss: 0.862546    Range: [  656/ 1535]\n",
            "TRAINING: Avg. Accuracy 56.250    Avg. Loss: 0.909718    Range: [  816/ 1535]\n",
            "TRAINING: Avg. Accuracy 50.000    Avg. Loss: 0.844713    Range: [  976/ 1535]\n",
            "TRAINING: Avg. Accuracy 87.500    Avg. Loss: 1.151709    Range: [ 1136/ 1535]\n",
            "TRAINING: Avg. Accuracy 50.000    Avg. Loss: 1.205521    Range: [ 1296/ 1535]\n",
            "TRAINING: Avg. Accuracy 62.500    Avg. Loss: 1.065524    Range: [ 1456/ 1535]\n",
            "\n",
            "   VALIDATION: Accuracy: 72.000%, Avg loss: 1.160235 \n",
            "\n",
            "Epoch 16\n",
            "-------------------------------\n",
            "TRAINING: Avg. Accuracy 68.750    Avg. Loss: 1.104646    Range: [   16/ 1535]\n",
            "TRAINING: Avg. Accuracy 68.750    Avg. Loss: 0.836716    Range: [  176/ 1535]\n",
            "TRAINING: Avg. Accuracy 56.250    Avg. Loss: 1.031116    Range: [  336/ 1535]\n",
            "TRAINING: Avg. Accuracy 62.500    Avg. Loss: 1.020052    Range: [  496/ 1535]\n",
            "TRAINING: Avg. Accuracy 43.750    Avg. Loss: 1.253455    Range: [  656/ 1535]\n",
            "TRAINING: Avg. Accuracy 50.000    Avg. Loss: 1.370440    Range: [  816/ 1535]\n",
            "TRAINING: Avg. Accuracy 87.500    Avg. Loss: 0.436587    Range: [  976/ 1535]\n",
            "TRAINING: Avg. Accuracy 50.000    Avg. Loss: 0.859712    Range: [ 1136/ 1535]\n",
            "TRAINING: Avg. Accuracy 68.750    Avg. Loss: 1.110878    Range: [ 1296/ 1535]\n",
            "TRAINING: Avg. Accuracy 56.250    Avg. Loss: 1.124508    Range: [ 1456/ 1535]\n",
            "\n",
            "   VALIDATION: Accuracy: 72.000%, Avg loss: 1.154250 \n",
            "\n",
            "Epoch 17\n",
            "-------------------------------\n",
            "TRAINING: Avg. Accuracy 87.500    Avg. Loss: 0.527920    Range: [   16/ 1535]\n",
            "TRAINING: Avg. Accuracy 75.000    Avg. Loss: 0.749553    Range: [  176/ 1535]\n",
            "TRAINING: Avg. Accuracy 75.000    Avg. Loss: 0.981805    Range: [  336/ 1535]\n",
            "TRAINING: Avg. Accuracy 56.250    Avg. Loss: 1.235765    Range: [  496/ 1535]\n",
            "TRAINING: Avg. Accuracy 75.000    Avg. Loss: 0.646262    Range: [  656/ 1535]\n",
            "TRAINING: Avg. Accuracy 50.000    Avg. Loss: 1.135145    Range: [  816/ 1535]\n",
            "TRAINING: Avg. Accuracy 62.500    Avg. Loss: 1.087526    Range: [  976/ 1535]\n",
            "TRAINING: Avg. Accuracy 62.500    Avg. Loss: 0.864460    Range: [ 1136/ 1535]\n",
            "TRAINING: Avg. Accuracy 68.750    Avg. Loss: 0.942529    Range: [ 1296/ 1535]\n",
            "TRAINING: Avg. Accuracy 81.250    Avg. Loss: 0.910392    Range: [ 1456/ 1535]\n",
            "\n",
            "   VALIDATION: Accuracy: 64.000%, Avg loss: 1.049362 \n",
            "\n",
            "Epoch 18\n",
            "-------------------------------\n",
            "TRAINING: Avg. Accuracy 62.500    Avg. Loss: 0.844499    Range: [   16/ 1535]\n",
            "TRAINING: Avg. Accuracy 75.000    Avg. Loss: 0.671914    Range: [  176/ 1535]\n",
            "TRAINING: Avg. Accuracy 87.500    Avg. Loss: 0.468207    Range: [  336/ 1535]\n",
            "TRAINING: Avg. Accuracy 62.500    Avg. Loss: 1.509802    Range: [  496/ 1535]\n",
            "TRAINING: Avg. Accuracy 62.500    Avg. Loss: 0.868259    Range: [  656/ 1535]\n",
            "TRAINING: Avg. Accuracy 68.750    Avg. Loss: 0.892942    Range: [  816/ 1535]\n",
            "TRAINING: Avg. Accuracy 50.000    Avg. Loss: 0.970748    Range: [  976/ 1535]\n",
            "TRAINING: Avg. Accuracy 56.250    Avg. Loss: 0.980877    Range: [ 1136/ 1535]\n",
            "TRAINING: Avg. Accuracy 50.000    Avg. Loss: 1.506494    Range: [ 1296/ 1535]\n",
            "TRAINING: Avg. Accuracy 68.750    Avg. Loss: 1.020648    Range: [ 1456/ 1535]\n",
            "\n",
            "   VALIDATION: Accuracy: 76.000%, Avg loss: 1.008515 \n",
            "\n",
            "Epoch 19\n",
            "-------------------------------\n",
            "TRAINING: Avg. Accuracy 81.250    Avg. Loss: 0.603925    Range: [   16/ 1535]\n",
            "TRAINING: Avg. Accuracy 50.000    Avg. Loss: 1.212981    Range: [  176/ 1535]\n",
            "TRAINING: Avg. Accuracy 68.750    Avg. Loss: 0.641099    Range: [  336/ 1535]\n",
            "TRAINING: Avg. Accuracy 93.750    Avg. Loss: 0.359036    Range: [  496/ 1535]\n",
            "TRAINING: Avg. Accuracy 87.500    Avg. Loss: 0.347870    Range: [  656/ 1535]\n",
            "TRAINING: Avg. Accuracy 68.750    Avg. Loss: 1.172355    Range: [  816/ 1535]\n",
            "TRAINING: Avg. Accuracy 75.000    Avg. Loss: 1.075197    Range: [  976/ 1535]\n",
            "TRAINING: Avg. Accuracy 50.000    Avg. Loss: 1.266998    Range: [ 1136/ 1535]\n",
            "TRAINING: Avg. Accuracy 68.750    Avg. Loss: 0.812017    Range: [ 1296/ 1535]\n",
            "TRAINING: Avg. Accuracy 81.250    Avg. Loss: 0.689957    Range: [ 1456/ 1535]\n",
            "\n",
            "   VALIDATION: Accuracy: 80.000%, Avg loss: 1.285162 \n",
            "\n",
            "Epoch 20\n",
            "-------------------------------\n",
            "TRAINING: Avg. Accuracy 81.250    Avg. Loss: 0.747216    Range: [   16/ 1535]\n",
            "TRAINING: Avg. Accuracy 62.500    Avg. Loss: 0.972709    Range: [  176/ 1535]\n",
            "TRAINING: Avg. Accuracy 81.250    Avg. Loss: 0.517573    Range: [  336/ 1535]\n",
            "TRAINING: Avg. Accuracy 93.750    Avg. Loss: 0.429119    Range: [  496/ 1535]\n",
            "TRAINING: Avg. Accuracy 81.250    Avg. Loss: 0.575874    Range: [  656/ 1535]\n",
            "TRAINING: Avg. Accuracy 87.500    Avg. Loss: 0.594437    Range: [  816/ 1535]\n",
            "TRAINING: Avg. Accuracy 56.250    Avg. Loss: 0.978936    Range: [  976/ 1535]\n",
            "TRAINING: Avg. Accuracy 75.000    Avg. Loss: 0.804460    Range: [ 1136/ 1535]\n",
            "TRAINING: Avg. Accuracy 87.500    Avg. Loss: 0.416904    Range: [ 1296/ 1535]\n",
            "TRAINING: Avg. Accuracy 75.000    Avg. Loss: 0.803335    Range: [ 1456/ 1535]\n",
            "\n",
            "   VALIDATION: Accuracy: 58.000%, Avg loss: 1.501268 \n",
            "\n",
            "Epoch 21\n",
            "-------------------------------\n",
            "TRAINING: Avg. Accuracy 75.000    Avg. Loss: 0.683256    Range: [   16/ 1535]\n",
            "TRAINING: Avg. Accuracy 93.750    Avg. Loss: 0.591395    Range: [  176/ 1535]\n",
            "TRAINING: Avg. Accuracy 81.250    Avg. Loss: 0.768623    Range: [  336/ 1535]\n",
            "TRAINING: Avg. Accuracy 81.250    Avg. Loss: 0.788666    Range: [  496/ 1535]\n",
            "TRAINING: Avg. Accuracy 56.250    Avg. Loss: 1.125528    Range: [  656/ 1535]\n",
            "TRAINING: Avg. Accuracy 62.500    Avg. Loss: 0.839513    Range: [  816/ 1535]\n",
            "TRAINING: Avg. Accuracy 81.250    Avg. Loss: 0.710873    Range: [  976/ 1535]\n",
            "TRAINING: Avg. Accuracy 62.500    Avg. Loss: 0.852741    Range: [ 1136/ 1535]\n",
            "TRAINING: Avg. Accuracy 75.000    Avg. Loss: 0.974921    Range: [ 1296/ 1535]\n",
            "TRAINING: Avg. Accuracy 68.750    Avg. Loss: 0.889076    Range: [ 1456/ 1535]\n",
            "\n",
            "   VALIDATION: Accuracy: 66.000%, Avg loss: 1.087051 \n",
            "\n",
            "Epoch 22\n",
            "-------------------------------\n",
            "TRAINING: Avg. Accuracy 68.750    Avg. Loss: 0.835702    Range: [   16/ 1535]\n",
            "TRAINING: Avg. Accuracy 68.750    Avg. Loss: 0.991677    Range: [  176/ 1535]\n",
            "TRAINING: Avg. Accuracy 75.000    Avg. Loss: 0.635978    Range: [  336/ 1535]\n",
            "TRAINING: Avg. Accuracy 50.000    Avg. Loss: 1.482886    Range: [  496/ 1535]\n",
            "TRAINING: Avg. Accuracy 68.750    Avg. Loss: 0.792565    Range: [  656/ 1535]\n",
            "TRAINING: Avg. Accuracy 50.000    Avg. Loss: 1.316549    Range: [  816/ 1535]\n",
            "TRAINING: Avg. Accuracy 81.250    Avg. Loss: 0.574638    Range: [  976/ 1535]\n",
            "TRAINING: Avg. Accuracy 68.750    Avg. Loss: 1.062372    Range: [ 1136/ 1535]\n",
            "TRAINING: Avg. Accuracy 62.500    Avg. Loss: 1.041944    Range: [ 1296/ 1535]\n",
            "TRAINING: Avg. Accuracy 75.000    Avg. Loss: 0.748400    Range: [ 1456/ 1535]\n",
            "\n",
            "   VALIDATION: Accuracy: 68.000%, Avg loss: 1.214252 \n",
            "\n",
            "Epoch 23\n",
            "-------------------------------\n",
            "TRAINING: Avg. Accuracy 87.500    Avg. Loss: 0.514744    Range: [   16/ 1535]\n",
            "TRAINING: Avg. Accuracy 75.000    Avg. Loss: 0.696216    Range: [  176/ 1535]\n",
            "TRAINING: Avg. Accuracy 50.000    Avg. Loss: 1.023293    Range: [  336/ 1535]\n",
            "TRAINING: Avg. Accuracy 75.000    Avg. Loss: 0.697794    Range: [  496/ 1535]\n",
            "TRAINING: Avg. Accuracy 87.500    Avg. Loss: 0.650223    Range: [  656/ 1535]\n",
            "TRAINING: Avg. Accuracy 43.750    Avg. Loss: 1.582637    Range: [  816/ 1535]\n",
            "TRAINING: Avg. Accuracy 75.000    Avg. Loss: 0.683440    Range: [  976/ 1535]\n",
            "TRAINING: Avg. Accuracy 68.750    Avg. Loss: 0.898545    Range: [ 1136/ 1535]\n",
            "TRAINING: Avg. Accuracy 68.750    Avg. Loss: 0.725891    Range: [ 1296/ 1535]\n",
            "TRAINING: Avg. Accuracy 68.750    Avg. Loss: 0.901895    Range: [ 1456/ 1535]\n",
            "\n",
            "   VALIDATION: Accuracy: 82.000%, Avg loss: 0.951575 \n",
            "\n",
            "Epoch 24\n",
            "-------------------------------\n",
            "TRAINING: Avg. Accuracy 62.500    Avg. Loss: 1.305828    Range: [   16/ 1535]\n",
            "TRAINING: Avg. Accuracy 87.500    Avg. Loss: 0.516411    Range: [  176/ 1535]\n",
            "TRAINING: Avg. Accuracy 68.750    Avg. Loss: 1.109082    Range: [  336/ 1535]\n",
            "TRAINING: Avg. Accuracy 68.750    Avg. Loss: 0.961753    Range: [  496/ 1535]\n",
            "TRAINING: Avg. Accuracy 68.750    Avg. Loss: 0.859935    Range: [  656/ 1535]\n",
            "TRAINING: Avg. Accuracy 87.500    Avg. Loss: 0.482373    Range: [  816/ 1535]\n",
            "TRAINING: Avg. Accuracy 56.250    Avg. Loss: 0.860829    Range: [  976/ 1535]\n",
            "TRAINING: Avg. Accuracy 87.500    Avg. Loss: 0.466659    Range: [ 1136/ 1535]\n",
            "TRAINING: Avg. Accuracy 75.000    Avg. Loss: 1.162513    Range: [ 1296/ 1535]\n",
            "TRAINING: Avg. Accuracy 56.250    Avg. Loss: 1.052707    Range: [ 1456/ 1535]\n",
            "\n",
            "   VALIDATION: Accuracy: 78.000%, Avg loss: 0.900019 \n",
            "\n",
            "Epoch 25\n",
            "-------------------------------\n",
            "TRAINING: Avg. Accuracy 75.000    Avg. Loss: 1.146692    Range: [   16/ 1535]\n",
            "TRAINING: Avg. Accuracy 75.000    Avg. Loss: 0.692853    Range: [  176/ 1535]\n",
            "TRAINING: Avg. Accuracy 68.750    Avg. Loss: 0.978876    Range: [  336/ 1535]\n",
            "TRAINING: Avg. Accuracy 68.750    Avg. Loss: 0.924026    Range: [  496/ 1535]\n",
            "TRAINING: Avg. Accuracy 75.000    Avg. Loss: 0.991594    Range: [  656/ 1535]\n",
            "TRAINING: Avg. Accuracy 68.750    Avg. Loss: 0.898314    Range: [  816/ 1535]\n",
            "TRAINING: Avg. Accuracy 56.250    Avg. Loss: 1.311795    Range: [  976/ 1535]\n",
            "TRAINING: Avg. Accuracy 68.750    Avg. Loss: 1.169788    Range: [ 1136/ 1535]\n",
            "TRAINING: Avg. Accuracy 68.750    Avg. Loss: 1.074398    Range: [ 1296/ 1535]\n",
            "TRAINING: Avg. Accuracy 43.750    Avg. Loss: 1.539739    Range: [ 1456/ 1535]\n",
            "\n",
            "   VALIDATION: Accuracy: 78.000%, Avg loss: 1.064839 \n",
            "\n",
            "Epoch 26\n",
            "-------------------------------\n",
            "TRAINING: Avg. Accuracy 56.250    Avg. Loss: 0.819354    Range: [   16/ 1535]\n",
            "TRAINING: Avg. Accuracy 68.750    Avg. Loss: 0.974353    Range: [  176/ 1535]\n",
            "TRAINING: Avg. Accuracy 68.750    Avg. Loss: 0.750439    Range: [  336/ 1535]\n",
            "TRAINING: Avg. Accuracy 68.750    Avg. Loss: 1.099683    Range: [  496/ 1535]\n",
            "TRAINING: Avg. Accuracy 62.500    Avg. Loss: 0.985896    Range: [  656/ 1535]\n",
            "TRAINING: Avg. Accuracy 50.000    Avg. Loss: 1.135173    Range: [  816/ 1535]\n",
            "TRAINING: Avg. Accuracy 62.500    Avg. Loss: 1.101037    Range: [  976/ 1535]\n",
            "TRAINING: Avg. Accuracy 62.500    Avg. Loss: 0.841636    Range: [ 1136/ 1535]\n",
            "TRAINING: Avg. Accuracy 68.750    Avg. Loss: 1.012375    Range: [ 1296/ 1535]\n",
            "TRAINING: Avg. Accuracy 68.750    Avg. Loss: 1.177726    Range: [ 1456/ 1535]\n",
            "\n",
            "   VALIDATION: Accuracy: 74.000%, Avg loss: 1.112694 \n",
            "\n",
            "Epoch 27\n",
            "-------------------------------\n",
            "TRAINING: Avg. Accuracy 75.000    Avg. Loss: 0.889443    Range: [   16/ 1535]\n",
            "TRAINING: Avg. Accuracy 75.000    Avg. Loss: 0.785561    Range: [  176/ 1535]\n",
            "TRAINING: Avg. Accuracy 81.250    Avg. Loss: 0.956516    Range: [  336/ 1535]\n",
            "TRAINING: Avg. Accuracy 62.500    Avg. Loss: 1.106947    Range: [  496/ 1535]\n",
            "TRAINING: Avg. Accuracy 87.500    Avg. Loss: 0.456028    Range: [  656/ 1535]\n",
            "TRAINING: Avg. Accuracy 75.000    Avg. Loss: 0.817612    Range: [  816/ 1535]\n",
            "TRAINING: Avg. Accuracy 68.750    Avg. Loss: 0.976646    Range: [  976/ 1535]\n",
            "TRAINING: Avg. Accuracy 62.500    Avg. Loss: 0.926469    Range: [ 1136/ 1535]\n",
            "TRAINING: Avg. Accuracy 50.000    Avg. Loss: 0.866767    Range: [ 1296/ 1535]\n",
            "TRAINING: Avg. Accuracy 87.500    Avg. Loss: 0.395424    Range: [ 1456/ 1535]\n",
            "\n",
            "   VALIDATION: Accuracy: 86.000%, Avg loss: 1.080961 \n",
            "\n",
            "Epoch 28\n",
            "-------------------------------\n",
            "TRAINING: Avg. Accuracy 93.750    Avg. Loss: 0.417048    Range: [   16/ 1535]\n",
            "TRAINING: Avg. Accuracy 56.250    Avg. Loss: 1.116469    Range: [  176/ 1535]\n",
            "TRAINING: Avg. Accuracy 50.000    Avg. Loss: 1.773389    Range: [  336/ 1535]\n",
            "TRAINING: Avg. Accuracy 68.750    Avg. Loss: 1.104105    Range: [  496/ 1535]\n",
            "TRAINING: Avg. Accuracy 68.750    Avg. Loss: 0.963421    Range: [  656/ 1535]\n",
            "TRAINING: Avg. Accuracy 75.000    Avg. Loss: 0.981481    Range: [  816/ 1535]\n",
            "TRAINING: Avg. Accuracy 81.250    Avg. Loss: 0.525193    Range: [  976/ 1535]\n",
            "TRAINING: Avg. Accuracy 31.250    Avg. Loss: 1.598761    Range: [ 1136/ 1535]\n",
            "TRAINING: Avg. Accuracy 56.250    Avg. Loss: 1.284235    Range: [ 1296/ 1535]\n",
            "TRAINING: Avg. Accuracy 56.250    Avg. Loss: 1.494017    Range: [ 1456/ 1535]\n",
            "\n",
            "   VALIDATION: Accuracy: 84.000%, Avg loss: 0.858034 \n",
            "\n",
            "Epoch 29\n",
            "-------------------------------\n",
            "TRAINING: Avg. Accuracy 68.750    Avg. Loss: 0.658662    Range: [   16/ 1535]\n",
            "TRAINING: Avg. Accuracy 62.500    Avg. Loss: 1.070117    Range: [  176/ 1535]\n",
            "TRAINING: Avg. Accuracy 68.750    Avg. Loss: 0.794944    Range: [  336/ 1535]\n",
            "TRAINING: Avg. Accuracy 75.000    Avg. Loss: 0.986573    Range: [  496/ 1535]\n",
            "TRAINING: Avg. Accuracy 62.500    Avg. Loss: 0.916461    Range: [  656/ 1535]\n",
            "TRAINING: Avg. Accuracy 87.500    Avg. Loss: 0.395485    Range: [  816/ 1535]\n",
            "TRAINING: Avg. Accuracy 81.250    Avg. Loss: 0.621251    Range: [  976/ 1535]\n",
            "TRAINING: Avg. Accuracy 81.250    Avg. Loss: 0.697331    Range: [ 1136/ 1535]\n",
            "TRAINING: Avg. Accuracy 75.000    Avg. Loss: 0.719983    Range: [ 1296/ 1535]\n",
            "TRAINING: Avg. Accuracy 68.750    Avg. Loss: 1.345476    Range: [ 1456/ 1535]\n",
            "\n",
            "   VALIDATION: Accuracy: 88.000%, Avg loss: 0.878621 \n",
            "\n",
            "Epoch 30\n",
            "-------------------------------\n",
            "TRAINING: Avg. Accuracy 68.750    Avg. Loss: 1.073687    Range: [   16/ 1535]\n",
            "TRAINING: Avg. Accuracy 75.000    Avg. Loss: 0.727176    Range: [  176/ 1535]\n",
            "TRAINING: Avg. Accuracy 75.000    Avg. Loss: 0.651863    Range: [  336/ 1535]\n",
            "TRAINING: Avg. Accuracy 75.000    Avg. Loss: 0.659261    Range: [  496/ 1535]\n",
            "TRAINING: Avg. Accuracy 68.750    Avg. Loss: 0.664799    Range: [  656/ 1535]\n",
            "TRAINING: Avg. Accuracy 62.500    Avg. Loss: 1.133182    Range: [  816/ 1535]\n",
            "TRAINING: Avg. Accuracy 75.000    Avg. Loss: 0.740202    Range: [  976/ 1535]\n",
            "TRAINING: Avg. Accuracy 62.500    Avg. Loss: 1.237173    Range: [ 1136/ 1535]\n",
            "TRAINING: Avg. Accuracy 81.250    Avg. Loss: 0.670026    Range: [ 1296/ 1535]\n",
            "TRAINING: Avg. Accuracy 75.000    Avg. Loss: 0.698458    Range: [ 1456/ 1535]\n",
            "\n",
            "   VALIDATION: Accuracy: 80.000%, Avg loss: 1.229550 \n",
            "\n",
            "Epoch 31\n",
            "-------------------------------\n",
            "TRAINING: Avg. Accuracy 50.000    Avg. Loss: 1.152574    Range: [   16/ 1535]\n",
            "TRAINING: Avg. Accuracy 68.750    Avg. Loss: 0.703566    Range: [  176/ 1535]\n",
            "TRAINING: Avg. Accuracy 56.250    Avg. Loss: 0.839053    Range: [  336/ 1535]\n",
            "TRAINING: Avg. Accuracy 81.250    Avg. Loss: 0.550749    Range: [  496/ 1535]\n",
            "TRAINING: Avg. Accuracy 68.750    Avg. Loss: 0.695002    Range: [  656/ 1535]\n",
            "TRAINING: Avg. Accuracy 87.500    Avg. Loss: 0.463423    Range: [  816/ 1535]\n",
            "TRAINING: Avg. Accuracy 75.000    Avg. Loss: 0.590367    Range: [  976/ 1535]\n",
            "TRAINING: Avg. Accuracy 75.000    Avg. Loss: 0.607784    Range: [ 1136/ 1535]\n",
            "TRAINING: Avg. Accuracy 75.000    Avg. Loss: 0.553572    Range: [ 1296/ 1535]\n",
            "TRAINING: Avg. Accuracy 62.500    Avg. Loss: 1.138371    Range: [ 1456/ 1535]\n",
            "\n",
            "   VALIDATION: Accuracy: 84.000%, Avg loss: 1.039835 \n",
            "\n",
            "Epoch 32\n",
            "-------------------------------\n",
            "TRAINING: Avg. Accuracy 68.750    Avg. Loss: 0.814480    Range: [   16/ 1535]\n",
            "TRAINING: Avg. Accuracy 87.500    Avg. Loss: 0.495561    Range: [  176/ 1535]\n",
            "TRAINING: Avg. Accuracy 56.250    Avg. Loss: 1.107780    Range: [  336/ 1535]\n",
            "TRAINING: Avg. Accuracy 87.500    Avg. Loss: 0.463378    Range: [  496/ 1535]\n",
            "TRAINING: Avg. Accuracy 87.500    Avg. Loss: 0.730518    Range: [  656/ 1535]\n",
            "TRAINING: Avg. Accuracy 81.250    Avg. Loss: 0.690387    Range: [  816/ 1535]\n",
            "TRAINING: Avg. Accuracy 81.250    Avg. Loss: 1.177023    Range: [  976/ 1535]\n",
            "TRAINING: Avg. Accuracy 68.750    Avg. Loss: 0.665668    Range: [ 1136/ 1535]\n",
            "TRAINING: Avg. Accuracy 93.750    Avg. Loss: 0.310850    Range: [ 1296/ 1535]\n",
            "TRAINING: Avg. Accuracy 62.500    Avg. Loss: 0.771774    Range: [ 1456/ 1535]\n",
            "\n",
            "   VALIDATION: Accuracy: 82.000%, Avg loss: 1.038125 \n",
            "\n",
            "Epoch 33\n",
            "-------------------------------\n",
            "TRAINING: Avg. Accuracy 62.500    Avg. Loss: 1.110456    Range: [   16/ 1535]\n",
            "TRAINING: Avg. Accuracy 75.000    Avg. Loss: 0.677193    Range: [  176/ 1535]\n",
            "TRAINING: Avg. Accuracy 62.500    Avg. Loss: 0.734892    Range: [  336/ 1535]\n",
            "TRAINING: Avg. Accuracy 75.000    Avg. Loss: 0.783692    Range: [  496/ 1535]\n",
            "TRAINING: Avg. Accuracy 75.000    Avg. Loss: 0.865193    Range: [  656/ 1535]\n",
            "TRAINING: Avg. Accuracy 87.500    Avg. Loss: 0.628110    Range: [  816/ 1535]\n",
            "TRAINING: Avg. Accuracy 68.750    Avg. Loss: 0.898875    Range: [  976/ 1535]\n",
            "TRAINING: Avg. Accuracy 75.000    Avg. Loss: 0.848022    Range: [ 1136/ 1535]\n",
            "TRAINING: Avg. Accuracy 62.500    Avg. Loss: 0.915683    Range: [ 1296/ 1535]\n",
            "TRAINING: Avg. Accuracy 68.750    Avg. Loss: 0.822472    Range: [ 1456/ 1535]\n",
            "\n",
            "   VALIDATION: Accuracy: 80.000%, Avg loss: 0.823840 \n",
            "\n",
            "Epoch 34\n",
            "-------------------------------\n",
            "TRAINING: Avg. Accuracy 62.500    Avg. Loss: 0.977681    Range: [   16/ 1535]\n",
            "TRAINING: Avg. Accuracy 75.000    Avg. Loss: 0.607105    Range: [  176/ 1535]\n",
            "TRAINING: Avg. Accuracy 75.000    Avg. Loss: 0.681394    Range: [  336/ 1535]\n",
            "TRAINING: Avg. Accuracy 87.500    Avg. Loss: 0.493659    Range: [  496/ 1535]\n",
            "TRAINING: Avg. Accuracy 62.500    Avg. Loss: 0.775723    Range: [  656/ 1535]\n",
            "TRAINING: Avg. Accuracy 62.500    Avg. Loss: 1.027478    Range: [  816/ 1535]\n",
            "TRAINING: Avg. Accuracy 81.250    Avg. Loss: 0.669810    Range: [  976/ 1535]\n",
            "TRAINING: Avg. Accuracy 81.250    Avg. Loss: 0.541036    Range: [ 1136/ 1535]\n",
            "TRAINING: Avg. Accuracy 87.500    Avg. Loss: 0.403121    Range: [ 1296/ 1535]\n",
            "TRAINING: Avg. Accuracy 93.750    Avg. Loss: 0.444347    Range: [ 1456/ 1535]\n",
            "\n",
            "   VALIDATION: Accuracy: 88.000%, Avg loss: 0.770817 \n",
            "\n",
            "Epoch 35\n",
            "-------------------------------\n",
            "TRAINING: Avg. Accuracy 81.250    Avg. Loss: 0.576279    Range: [   16/ 1535]\n",
            "TRAINING: Avg. Accuracy 62.500    Avg. Loss: 0.778418    Range: [  176/ 1535]\n",
            "TRAINING: Avg. Accuracy 62.500    Avg. Loss: 1.049697    Range: [  336/ 1535]\n",
            "TRAINING: Avg. Accuracy 75.000    Avg. Loss: 0.690787    Range: [  496/ 1535]\n",
            "TRAINING: Avg. Accuracy 68.750    Avg. Loss: 0.750184    Range: [  656/ 1535]\n",
            "TRAINING: Avg. Accuracy 56.250    Avg. Loss: 1.239281    Range: [  816/ 1535]\n",
            "TRAINING: Avg. Accuracy 75.000    Avg. Loss: 0.776484    Range: [  976/ 1535]\n",
            "TRAINING: Avg. Accuracy 87.500    Avg. Loss: 0.515764    Range: [ 1136/ 1535]\n",
            "TRAINING: Avg. Accuracy 75.000    Avg. Loss: 0.776952    Range: [ 1296/ 1535]\n",
            "TRAINING: Avg. Accuracy 75.000    Avg. Loss: 0.715798    Range: [ 1456/ 1535]\n",
            "\n",
            "   VALIDATION: Accuracy: 84.000%, Avg loss: 0.731834 \n",
            "\n",
            "Epoch 36\n",
            "-------------------------------\n",
            "TRAINING: Avg. Accuracy 81.250    Avg. Loss: 0.748068    Range: [   16/ 1535]\n",
            "TRAINING: Avg. Accuracy 43.750    Avg. Loss: 1.280063    Range: [  176/ 1535]\n",
            "TRAINING: Avg. Accuracy 81.250    Avg. Loss: 0.447651    Range: [  336/ 1535]\n",
            "TRAINING: Avg. Accuracy 75.000    Avg. Loss: 0.975595    Range: [  496/ 1535]\n",
            "TRAINING: Avg. Accuracy 81.250    Avg. Loss: 0.612045    Range: [  656/ 1535]\n",
            "TRAINING: Avg. Accuracy 62.500    Avg. Loss: 0.831042    Range: [  816/ 1535]\n",
            "TRAINING: Avg. Accuracy 93.750    Avg. Loss: 0.498045    Range: [  976/ 1535]\n",
            "TRAINING: Avg. Accuracy 56.250    Avg. Loss: 0.964740    Range: [ 1136/ 1535]\n",
            "TRAINING: Avg. Accuracy 62.500    Avg. Loss: 0.783795    Range: [ 1296/ 1535]\n",
            "TRAINING: Avg. Accuracy 75.000    Avg. Loss: 0.922406    Range: [ 1456/ 1535]\n",
            "\n",
            "   VALIDATION: Accuracy: 84.000%, Avg loss: 0.813188 \n",
            "\n",
            "Epoch 37\n",
            "-------------------------------\n",
            "TRAINING: Avg. Accuracy 68.750    Avg. Loss: 1.005943    Range: [   16/ 1535]\n",
            "TRAINING: Avg. Accuracy 75.000    Avg. Loss: 0.808867    Range: [  176/ 1535]\n",
            "TRAINING: Avg. Accuracy 62.500    Avg. Loss: 0.837497    Range: [  336/ 1535]\n",
            "TRAINING: Avg. Accuracy 75.000    Avg. Loss: 0.824293    Range: [  496/ 1535]\n",
            "TRAINING: Avg. Accuracy 75.000    Avg. Loss: 0.740204    Range: [  656/ 1535]\n",
            "TRAINING: Avg. Accuracy 81.250    Avg. Loss: 0.807725    Range: [  816/ 1535]\n",
            "TRAINING: Avg. Accuracy 62.500    Avg. Loss: 1.035925    Range: [  976/ 1535]\n",
            "TRAINING: Avg. Accuracy 75.000    Avg. Loss: 0.677401    Range: [ 1136/ 1535]\n",
            "TRAINING: Avg. Accuracy 81.250    Avg. Loss: 0.539384    Range: [ 1296/ 1535]\n",
            "TRAINING: Avg. Accuracy 75.000    Avg. Loss: 0.792295    Range: [ 1456/ 1535]\n",
            "\n",
            "   VALIDATION: Accuracy: 86.000%, Avg loss: 0.955832 \n",
            "\n",
            "Epoch 38\n",
            "-------------------------------\n",
            "TRAINING: Avg. Accuracy 62.500    Avg. Loss: 1.105161    Range: [   16/ 1535]\n",
            "TRAINING: Avg. Accuracy 68.750    Avg. Loss: 0.830683    Range: [  176/ 1535]\n",
            "TRAINING: Avg. Accuracy 56.250    Avg. Loss: 1.136358    Range: [  336/ 1535]\n",
            "TRAINING: Avg. Accuracy 75.000    Avg. Loss: 0.781353    Range: [  496/ 1535]\n",
            "TRAINING: Avg. Accuracy 56.250    Avg. Loss: 1.086860    Range: [  656/ 1535]\n",
            "TRAINING: Avg. Accuracy 81.250    Avg. Loss: 0.618547    Range: [  816/ 1535]\n",
            "TRAINING: Avg. Accuracy 62.500    Avg. Loss: 0.995360    Range: [  976/ 1535]\n",
            "TRAINING: Avg. Accuracy 87.500    Avg. Loss: 0.469591    Range: [ 1136/ 1535]\n",
            "TRAINING: Avg. Accuracy 75.000    Avg. Loss: 0.786136    Range: [ 1296/ 1535]\n",
            "TRAINING: Avg. Accuracy 68.750    Avg. Loss: 0.725218    Range: [ 1456/ 1535]\n",
            "\n",
            "   VALIDATION: Accuracy: 86.000%, Avg loss: 0.888559 \n",
            "\n",
            "Epoch 39\n",
            "-------------------------------\n",
            "TRAINING: Avg. Accuracy 68.750    Avg. Loss: 0.982107    Range: [   16/ 1535]\n",
            "TRAINING: Avg. Accuracy 75.000    Avg. Loss: 0.406080    Range: [  176/ 1535]\n",
            "TRAINING: Avg. Accuracy 68.750    Avg. Loss: 0.836096    Range: [  336/ 1535]\n",
            "TRAINING: Avg. Accuracy 93.750    Avg. Loss: 0.369985    Range: [  496/ 1535]\n",
            "TRAINING: Avg. Accuracy 81.250    Avg. Loss: 0.540386    Range: [  656/ 1535]\n",
            "TRAINING: Avg. Accuracy 68.750    Avg. Loss: 1.063715    Range: [  816/ 1535]\n",
            "TRAINING: Avg. Accuracy 68.750    Avg. Loss: 1.268162    Range: [  976/ 1535]\n",
            "TRAINING: Avg. Accuracy 68.750    Avg. Loss: 0.640922    Range: [ 1136/ 1535]\n",
            "TRAINING: Avg. Accuracy 75.000    Avg. Loss: 0.804562    Range: [ 1296/ 1535]\n",
            "TRAINING: Avg. Accuracy 81.250    Avg. Loss: 0.665105    Range: [ 1456/ 1535]\n",
            "\n",
            "   VALIDATION: Accuracy: 88.000%, Avg loss: 0.625651 \n",
            "\n",
            "Epoch 40\n",
            "-------------------------------\n",
            "TRAINING: Avg. Accuracy 56.250    Avg. Loss: 0.585658    Range: [   16/ 1535]\n",
            "TRAINING: Avg. Accuracy 68.750    Avg. Loss: 0.745757    Range: [  176/ 1535]\n",
            "TRAINING: Avg. Accuracy 75.000    Avg. Loss: 0.612039    Range: [  336/ 1535]\n",
            "TRAINING: Avg. Accuracy 68.750    Avg. Loss: 0.860036    Range: [  496/ 1535]\n",
            "TRAINING: Avg. Accuracy 75.000    Avg. Loss: 0.681074    Range: [  656/ 1535]\n",
            "TRAINING: Avg. Accuracy 68.750    Avg. Loss: 0.898854    Range: [  816/ 1535]\n",
            "TRAINING: Avg. Accuracy 81.250    Avg. Loss: 0.989886    Range: [  976/ 1535]\n",
            "TRAINING: Avg. Accuracy 81.250    Avg. Loss: 0.915008    Range: [ 1136/ 1535]\n",
            "TRAINING: Avg. Accuracy 75.000    Avg. Loss: 0.853809    Range: [ 1296/ 1535]\n",
            "TRAINING: Avg. Accuracy 75.000    Avg. Loss: 0.845132    Range: [ 1456/ 1535]\n",
            "\n",
            "   VALIDATION: Accuracy: 82.000%, Avg loss: 0.843037 \n",
            "\n",
            "Epoch 41\n",
            "-------------------------------\n",
            "TRAINING: Avg. Accuracy 81.250    Avg. Loss: 0.559777    Range: [   16/ 1535]\n",
            "TRAINING: Avg. Accuracy 93.750    Avg. Loss: 0.378436    Range: [  176/ 1535]\n",
            "TRAINING: Avg. Accuracy 81.250    Avg. Loss: 0.675159    Range: [  336/ 1535]\n",
            "TRAINING: Avg. Accuracy 81.250    Avg. Loss: 0.491598    Range: [  496/ 1535]\n",
            "TRAINING: Avg. Accuracy 75.000    Avg. Loss: 0.661928    Range: [  656/ 1535]\n",
            "TRAINING: Avg. Accuracy 68.750    Avg. Loss: 0.866042    Range: [  816/ 1535]\n",
            "TRAINING: Avg. Accuracy 87.500    Avg. Loss: 0.577545    Range: [  976/ 1535]\n",
            "TRAINING: Avg. Accuracy 75.000    Avg. Loss: 0.659081    Range: [ 1136/ 1535]\n",
            "TRAINING: Avg. Accuracy 81.250    Avg. Loss: 0.562264    Range: [ 1296/ 1535]\n",
            "TRAINING: Avg. Accuracy 87.500    Avg. Loss: 0.414468    Range: [ 1456/ 1535]\n",
            "\n",
            "   VALIDATION: Accuracy: 84.000%, Avg loss: 0.734432 \n",
            "\n",
            "Epoch 42\n",
            "-------------------------------\n",
            "TRAINING: Avg. Accuracy 68.750    Avg. Loss: 0.810177    Range: [   16/ 1535]\n",
            "TRAINING: Avg. Accuracy 87.500    Avg. Loss: 0.547213    Range: [  176/ 1535]\n",
            "TRAINING: Avg. Accuracy 75.000    Avg. Loss: 0.567665    Range: [  336/ 1535]\n",
            "TRAINING: Avg. Accuracy 68.750    Avg. Loss: 0.880052    Range: [  496/ 1535]\n",
            "TRAINING: Avg. Accuracy 81.250    Avg. Loss: 0.590409    Range: [  656/ 1535]\n",
            "TRAINING: Avg. Accuracy 62.500    Avg. Loss: 0.985171    Range: [  816/ 1535]\n",
            "TRAINING: Avg. Accuracy 62.500    Avg. Loss: 0.678051    Range: [  976/ 1535]\n",
            "TRAINING: Avg. Accuracy 68.750    Avg. Loss: 0.652709    Range: [ 1136/ 1535]\n",
            "TRAINING: Avg. Accuracy 87.500    Avg. Loss: 0.502973    Range: [ 1296/ 1535]\n",
            "TRAINING: Avg. Accuracy 87.500    Avg. Loss: 0.305881    Range: [ 1456/ 1535]\n",
            "\n",
            "   VALIDATION: Accuracy: 86.000%, Avg loss: 0.816342 \n",
            "\n",
            "Epoch 43\n",
            "-------------------------------\n",
            "TRAINING: Avg. Accuracy 75.000    Avg. Loss: 0.728003    Range: [   16/ 1535]\n",
            "TRAINING: Avg. Accuracy 81.250    Avg. Loss: 0.565359    Range: [  176/ 1535]\n",
            "TRAINING: Avg. Accuracy 81.250    Avg. Loss: 0.563969    Range: [  336/ 1535]\n",
            "TRAINING: Avg. Accuracy 75.000    Avg. Loss: 0.767897    Range: [  496/ 1535]\n",
            "TRAINING: Avg. Accuracy 75.000    Avg. Loss: 0.717962    Range: [  656/ 1535]\n",
            "TRAINING: Avg. Accuracy 81.250    Avg. Loss: 0.608483    Range: [  816/ 1535]\n",
            "TRAINING: Avg. Accuracy 68.750    Avg. Loss: 0.712896    Range: [  976/ 1535]\n",
            "TRAINING: Avg. Accuracy 68.750    Avg. Loss: 0.765942    Range: [ 1136/ 1535]\n",
            "TRAINING: Avg. Accuracy 68.750    Avg. Loss: 1.196103    Range: [ 1296/ 1535]\n",
            "TRAINING: Avg. Accuracy 68.750    Avg. Loss: 0.576718    Range: [ 1456/ 1535]\n",
            "\n",
            "   VALIDATION: Accuracy: 86.000%, Avg loss: 0.641599 \n",
            "\n",
            "Epoch 44\n",
            "-------------------------------\n",
            "TRAINING: Avg. Accuracy 87.500    Avg. Loss: 0.376123    Range: [   16/ 1535]\n",
            "TRAINING: Avg. Accuracy 56.250    Avg. Loss: 1.143085    Range: [  176/ 1535]\n",
            "TRAINING: Avg. Accuracy 75.000    Avg. Loss: 0.481722    Range: [  336/ 1535]\n",
            "TRAINING: Avg. Accuracy 81.250    Avg. Loss: 0.427126    Range: [  496/ 1535]\n",
            "TRAINING: Avg. Accuracy 75.000    Avg. Loss: 0.381360    Range: [  656/ 1535]\n",
            "TRAINING: Avg. Accuracy 93.750    Avg. Loss: 0.408964    Range: [  816/ 1535]\n",
            "TRAINING: Avg. Accuracy 75.000    Avg. Loss: 0.650572    Range: [  976/ 1535]\n",
            "TRAINING: Avg. Accuracy 62.500    Avg. Loss: 0.933383    Range: [ 1136/ 1535]\n",
            "TRAINING: Avg. Accuracy 81.250    Avg. Loss: 0.717203    Range: [ 1296/ 1535]\n",
            "TRAINING: Avg. Accuracy 87.500    Avg. Loss: 0.251442    Range: [ 1456/ 1535]\n",
            "\n",
            "   VALIDATION: Accuracy: 88.000%, Avg loss: 0.656716 \n",
            "\n",
            "Epoch 45\n",
            "-------------------------------\n",
            "TRAINING: Avg. Accuracy 68.750    Avg. Loss: 0.577807    Range: [   16/ 1535]\n",
            "TRAINING: Avg. Accuracy 75.000    Avg. Loss: 0.465457    Range: [  176/ 1535]\n",
            "TRAINING: Avg. Accuracy 87.500    Avg. Loss: 0.557947    Range: [  336/ 1535]\n",
            "TRAINING: Avg. Accuracy 75.000    Avg. Loss: 0.651330    Range: [  496/ 1535]\n",
            "TRAINING: Avg. Accuracy 93.750    Avg. Loss: 0.424145    Range: [  656/ 1535]\n",
            "TRAINING: Avg. Accuracy 68.750    Avg. Loss: 0.800601    Range: [  816/ 1535]\n",
            "TRAINING: Avg. Accuracy 68.750    Avg. Loss: 0.927330    Range: [  976/ 1535]\n",
            "TRAINING: Avg. Accuracy 81.250    Avg. Loss: 0.461686    Range: [ 1136/ 1535]\n",
            "TRAINING: Avg. Accuracy 68.750    Avg. Loss: 0.759519    Range: [ 1296/ 1535]\n",
            "TRAINING: Avg. Accuracy 68.750    Avg. Loss: 0.932293    Range: [ 1456/ 1535]\n",
            "\n",
            "   VALIDATION: Accuracy: 88.000%, Avg loss: 0.768206 \n",
            "\n",
            "Epoch 46\n",
            "-------------------------------\n",
            "TRAINING: Avg. Accuracy 81.250    Avg. Loss: 0.731004    Range: [   16/ 1535]\n",
            "TRAINING: Avg. Accuracy 75.000    Avg. Loss: 0.515669    Range: [  176/ 1535]\n",
            "TRAINING: Avg. Accuracy 87.500    Avg. Loss: 0.384820    Range: [  336/ 1535]\n",
            "TRAINING: Avg. Accuracy 75.000    Avg. Loss: 0.743595    Range: [  496/ 1535]\n",
            "TRAINING: Avg. Accuracy 75.000    Avg. Loss: 0.758742    Range: [  656/ 1535]\n",
            "TRAINING: Avg. Accuracy 81.250    Avg. Loss: 0.565901    Range: [  816/ 1535]\n",
            "TRAINING: Avg. Accuracy 93.750    Avg. Loss: 0.294302    Range: [  976/ 1535]\n",
            "TRAINING: Avg. Accuracy 81.250    Avg. Loss: 0.692108    Range: [ 1136/ 1535]\n",
            "TRAINING: Avg. Accuracy 68.750    Avg. Loss: 0.778233    Range: [ 1296/ 1535]\n",
            "TRAINING: Avg. Accuracy 81.250    Avg. Loss: 0.837333    Range: [ 1456/ 1535]\n",
            "\n",
            "   VALIDATION: Accuracy: 90.000%, Avg loss: 0.507026 \n",
            "\n",
            "Epoch 47\n",
            "-------------------------------\n",
            "TRAINING: Avg. Accuracy 93.750    Avg. Loss: 0.499036    Range: [   16/ 1535]\n",
            "TRAINING: Avg. Accuracy 81.250    Avg. Loss: 0.454139    Range: [  176/ 1535]\n",
            "TRAINING: Avg. Accuracy 93.750    Avg. Loss: 0.367348    Range: [  336/ 1535]\n",
            "TRAINING: Avg. Accuracy 62.500    Avg. Loss: 0.939377    Range: [  496/ 1535]\n",
            "TRAINING: Avg. Accuracy 56.250    Avg. Loss: 1.609923    Range: [  656/ 1535]\n",
            "TRAINING: Avg. Accuracy 81.250    Avg. Loss: 0.577439    Range: [  816/ 1535]\n",
            "TRAINING: Avg. Accuracy 81.250    Avg. Loss: 0.581127    Range: [  976/ 1535]\n",
            "TRAINING: Avg. Accuracy 81.250    Avg. Loss: 0.441580    Range: [ 1136/ 1535]\n",
            "TRAINING: Avg. Accuracy 62.500    Avg. Loss: 0.857267    Range: [ 1296/ 1535]\n",
            "TRAINING: Avg. Accuracy 87.500    Avg. Loss: 0.738240    Range: [ 1456/ 1535]\n",
            "\n",
            "   VALIDATION: Accuracy: 86.000%, Avg loss: 0.519245 \n",
            "\n",
            "Epoch 48\n",
            "-------------------------------\n",
            "TRAINING: Avg. Accuracy 75.000    Avg. Loss: 0.748877    Range: [   16/ 1535]\n",
            "TRAINING: Avg. Accuracy 87.500    Avg. Loss: 0.563770    Range: [  176/ 1535]\n",
            "TRAINING: Avg. Accuracy 87.500    Avg. Loss: 0.632285    Range: [  336/ 1535]\n",
            "TRAINING: Avg. Accuracy 68.750    Avg. Loss: 1.522789    Range: [  496/ 1535]\n",
            "TRAINING: Avg. Accuracy 87.500    Avg. Loss: 0.411884    Range: [  656/ 1535]\n",
            "TRAINING: Avg. Accuracy 93.750    Avg. Loss: 0.278069    Range: [  816/ 1535]\n",
            "TRAINING: Avg. Accuracy 81.250    Avg. Loss: 0.495362    Range: [  976/ 1535]\n",
            "TRAINING: Avg. Accuracy 68.750    Avg. Loss: 0.717559    Range: [ 1136/ 1535]\n",
            "TRAINING: Avg. Accuracy 75.000    Avg. Loss: 0.491458    Range: [ 1296/ 1535]\n",
            "TRAINING: Avg. Accuracy 68.750    Avg. Loss: 1.115463    Range: [ 1456/ 1535]\n",
            "\n",
            "   VALIDATION: Accuracy: 90.000%, Avg loss: 0.523059 \n",
            "\n",
            "Epoch 49\n",
            "-------------------------------\n",
            "TRAINING: Avg. Accuracy 93.750    Avg. Loss: 0.343337    Range: [   16/ 1535]\n",
            "TRAINING: Avg. Accuracy 56.250    Avg. Loss: 1.389858    Range: [  176/ 1535]\n",
            "TRAINING: Avg. Accuracy 62.500    Avg. Loss: 1.661550    Range: [  336/ 1535]\n",
            "TRAINING: Avg. Accuracy 87.500    Avg. Loss: 0.485014    Range: [  496/ 1535]\n",
            "TRAINING: Avg. Accuracy 75.000    Avg. Loss: 0.533896    Range: [  656/ 1535]\n",
            "TRAINING: Avg. Accuracy 81.250    Avg. Loss: 0.775575    Range: [  816/ 1535]\n",
            "TRAINING: Avg. Accuracy 87.500    Avg. Loss: 0.499529    Range: [  976/ 1535]\n",
            "TRAINING: Avg. Accuracy 68.750    Avg. Loss: 0.879511    Range: [ 1136/ 1535]\n",
            "TRAINING: Avg. Accuracy 87.500    Avg. Loss: 0.528816    Range: [ 1296/ 1535]\n",
            "TRAINING: Avg. Accuracy 81.250    Avg. Loss: 0.587521    Range: [ 1456/ 1535]\n",
            "\n",
            "   VALIDATION: Accuracy: 88.000%, Avg loss: 0.572565 \n",
            "\n",
            "Epoch 50\n",
            "-------------------------------\n",
            "TRAINING: Avg. Accuracy 50.000    Avg. Loss: 1.667481    Range: [   16/ 1535]\n",
            "TRAINING: Avg. Accuracy 81.250    Avg. Loss: 0.435360    Range: [  176/ 1535]\n",
            "TRAINING: Avg. Accuracy 75.000    Avg. Loss: 0.559866    Range: [  336/ 1535]\n",
            "TRAINING: Avg. Accuracy 93.750    Avg. Loss: 0.315786    Range: [  496/ 1535]\n",
            "TRAINING: Avg. Accuracy 81.250    Avg. Loss: 0.588900    Range: [  656/ 1535]\n",
            "TRAINING: Avg. Accuracy 81.250    Avg. Loss: 0.640798    Range: [  816/ 1535]\n",
            "TRAINING: Avg. Accuracy 87.500    Avg. Loss: 0.415791    Range: [  976/ 1535]\n",
            "TRAINING: Avg. Accuracy 81.250    Avg. Loss: 0.667072    Range: [ 1136/ 1535]\n",
            "TRAINING: Avg. Accuracy 87.500    Avg. Loss: 0.367950    Range: [ 1296/ 1535]\n",
            "TRAINING: Avg. Accuracy 68.750    Avg. Loss: 0.789898    Range: [ 1456/ 1535]\n",
            "\n",
            "   VALIDATION: Accuracy: 96.000%, Avg loss: 0.299279 \n",
            "\n",
            "Done!\n"
          ]
        }
      ],
      "source": [
        "metrics = pd.DataFrame(columns=['train_acc', 'val_acc', 'train_loss', 'val_loss'])\n",
        "\n",
        "for t in range(num_epochs):\n",
        "    print(f\"Epoch {t+1}\\n-------------------------------\")\n",
        "    train_acc, train_loss = train_step(dataset, model, loss_fn, optimizer)\n",
        "    val_acc, val_loss = validation_step(valid_original_loader, model, loss_fn)\n",
        "    metrics.loc[t+1] = [train_acc, val_acc, train_loss, val_loss]\n",
        "print(\"Done!\")"
      ]
    },
    {
      "cell_type": "code",
      "execution_count": 39,
      "metadata": {
        "colab": {
          "base_uri": "https://localhost:8080/",
          "height": 478
        },
        "id": "wUHzYMmpS3lh",
        "outputId": "79c33989-73c4-43f2-9f0c-5b06e6c67f1e"
      },
      "outputs": [
        {
          "output_type": "display_data",
          "data": {
            "text/plain": [
              "<Figure size 640x480 with 2 Axes>"
            ],
            "image/png": "[encoded data removed]"
          },
          "metadata": {}
        }
      ],
      "source": [
        "fig, axs = plt.subplots(2)\n",
        "fig.suptitle('Training Metrics')\n",
        "axs[0].plot(metrics['train_loss'], label='train_loss')\n",
        "axs[0].plot(metrics['val_loss'], label='val_loss')\n",
        "axs[0].legend()\n",
        "\n",
        "axs[1].plot(metrics['train_acc'], label='train_acc')\n",
        "axs[1].plot(metrics['val_acc'], label='val_acc')\n",
        "axs[1].legend()\n",
        "\n",
        "plt.show()"
      ]
    },
    {
      "cell_type": "code",
      "source": [
        "# Evaluate the model on test data\n",
        "correct = 0\n",
        "\n",
        "with torch.no_grad():\n",
        "    for X, y in test_original_loader:\n",
        "        # Move tensors to device\n",
        "        X, y = X.to(device), y.to(device)\n",
        "\n",
        "        # Compute prediction\n",
        "        logits = model(X)\n",
        "        correct += (logits.argmax(1) == y).type(torch.float).sum().item()\n",
        "\n",
        "print(\"Accuracy:\", correct/len(test_original_loader.dataset)*100)"
      ],
      "metadata": {
        "colab": {
          "base_uri": "https://localhost:8080/"
        },
        "id": "uvElCGEibdYb",
        "outputId": "a2ac74c7-5fdb-439d-9c26-6316aa367c1b"
      },
      "execution_count": 41,
      "outputs": [
        {
          "output_type": "stream",
          "name": "stdout",
          "text": [
            "Accuracy: 86.0\n"
          ]
        }
      ]
    }
  ],
  "metadata": {
    "accelerator": "GPU",
    "colab": {
      "gpuType": "T4",
      "provenance": []
    },
    "kernelspec": {
      "display_name": "Python 3",
      "name": "python3"
    },
    "language_info": {
      "codemirror_mode": {
        "name": "ipython",
        "version": 3
      },
      "file_extension": ".py",
      "mimetype": "text/x-python",
      "name": "python",
      "nbconvert_exporter": "python",
      "pygments_lexer": "ipython3",
      "version": "3.9.6"
    }
  },
  "nbformat": 4,
  "nbformat_minor": 0
}