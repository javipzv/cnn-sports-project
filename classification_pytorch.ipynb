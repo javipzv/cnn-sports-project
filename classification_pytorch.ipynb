{
  "cells": [
    {
      "cell_type": "markdown",
      "metadata": {},
      "source": [
        "# Proyecto de Ciencia de Datos - Análisis de Imágenes\n",
        "\n",
        "Miembros del grupo:\n",
        "- Mario Ruiz Vaquett\n",
        "- Javier Pérez Vargas"
      ]
    },
    {
      "cell_type": "markdown",
      "metadata": {},
      "source": [
        "## 0. Importación de librerías"
      ]
    },
    {
      "cell_type": "markdown",
      "metadata": {},
      "source": [
        "Importamos las librerías que vamos a necesitar durante el cuaderno."
      ]
    },
    {
      "cell_type": "code",
      "execution_count": 41,
      "metadata": {
        "id": "gSMmHsHvJN-C"
      },
      "outputs": [],
      "source": [
        "import os\n",
        "import torch\n",
        "from torch.utils.data import Dataset, DataLoader\n",
        "from torchvision import transforms\n",
        "from PIL import Image\n",
        "import torch.nn as nn\n",
        "import numpy as np\n",
        "import pandas as pd\n",
        "import matplotlib.pyplot as plt"
      ]
    },
    {
      "cell_type": "markdown",
      "metadata": {
        "id": "PHqMucVzJN-D"
      },
      "source": [
        "## 1. Conjunto de Datos"
      ]
    },
    {
      "cell_type": "markdown",
      "metadata": {},
      "source": [
        "Para almacenar el dataset, utilizaremos la clase **Dataset** de PyTorch, que nos permite definir cómo cargar, transformar y acceder a nuestras imágenes de deporte de manera flexible y eficiente, integrándose fácilmente con el **DataLoader** para el manejo de lotes."
      ]
    },
    {
      "cell_type": "code",
      "execution_count": 42,
      "metadata": {
        "id": "XB-AeVmjJN-E"
      },
      "outputs": [],
      "source": [
        "class CustomImageDataset(Dataset):\n",
        "    def __init__(self, directory, transform=None):\n",
        "        self.directory = directory\n",
        "        self.transform = transform\n",
        "        self.image_paths = []\n",
        "        self.labels = []\n",
        "\n",
        "        # Obtener las clases (subdirectorios) y asignar un número\n",
        "        self.class_names = sorted(os.listdir(directory))\n",
        "        self.class_to_idx = {class_name: idx for idx, class_name in enumerate(self.class_names)}\n",
        "\n",
        "        # Recorremos las carpetas y archivos\n",
        "        for class_name in self.class_names:\n",
        "            class_path = os.path.join(directory, class_name)\n",
        "            if os.path.isdir(class_path):\n",
        "                for file_name in os.listdir(class_path):\n",
        "                    if file_name.endswith(('.jpg', '.png')):  # Filtra los tipos de archivo\n",
        "                        self.image_paths.append(os.path.join(class_path, file_name))\n",
        "                        self.labels.append(self.class_to_idx[class_name])\n",
        "\n",
        "    def __len__(self):\n",
        "        return len(self.image_paths)\n",
        "\n",
        "    def __getitem__(self, idx):\n",
        "        img_path = self.image_paths[idx]\n",
        "        label = self.labels[idx]\n",
        "        img = Image.open(img_path)\n",
        "\n",
        "        if self.transform:\n",
        "            img = self.transform(img)\n",
        "\n",
        "        return img, label"
      ]
    },
    {
      "cell_type": "markdown",
      "metadata": {},
      "source": [
        "### 1.1. Transformaciones"
      ]
    },
    {
      "cell_type": "markdown",
      "metadata": {},
      "source": [
        "Como observamos, la clase **CustomImageDataset** que acabamos de crear tiene un atributo denominado _transform_, el cual nos permite aplicar transformaciones personalizadas a las imágenes, como redimensionado, normalización o aumentos de datos, antes de ser procesadas por el modelo durante el entrenamiento o la validación. En nuestro caso tendremos dos:\n",
        "\n",
        "- **Original Transform**: En primer lugar, crearemos una instancia con las imágenes originales. De hecho, ni siquiera hace falta redimensionarlas pues ya están en la forma 224x224. Solamente las transformaremos en un tensor y las normalizaremos con los valores típicamente utilizados para ello.\n",
        "- **Augmented Transform**: Por otra parte, crearemos otra instancia del conjunto de datos pero aplicando la técnica de Data Augmentation. Esto quiere decir que cada época por la que pasa el modelo, las imágenes originales pueden estar rotadas, volteadas o con diferentes intensidades de brillo, contraste, etc... Con el objetivo de aumentar el conjunto de datos."
      ]
    },
    {
      "cell_type": "code",
      "execution_count": 43,
      "metadata": {
        "id": "IqkYAEHkJN-F"
      },
      "outputs": [],
      "source": [
        "original_transform = transforms.Compose([\n",
        "    transforms.ToTensor(),  # Convierte la imagen a un tensor\n",
        "    transforms.Normalize(mean=[0.485, 0.456, 0.406], std=[0.229, 0.224, 0.225])  # Normaliza la imagen\n",
        "])\n",
        "\n",
        "augmented_transform = transforms.Compose([\n",
        "    transforms.RandomHorizontalFlip(),  # Aplica un flip horizontal aleatorio\n",
        "    transforms.RandomRotation(30),  # Rota aleatoriamente la imagen entre -30 y 30 grados\n",
        "    transforms.ColorJitter(brightness=0.2, contrast=0.2, saturation=0.2, hue=0.2),  # Cambia aleatoriamente el brillo, el contraste, la saturación y el matiz\n",
        "    transforms.ToTensor(),\n",
        "    transforms.Normalize(mean=[0.485, 0.456, 0.406], std=[0.229, 0.224, 0.225])  # Normaliza la imagen\n",
        "])"
      ]
    },
    {
      "cell_type": "markdown",
      "metadata": {},
      "source": [
        "### 1.2. Instancias de Datasets y DataLoaders"
      ]
    },
    {
      "cell_type": "markdown",
      "metadata": {},
      "source": [
        "Así, ya podemos crear las instancias de los datasets. Como podemos observar, para el conjunto de validación y test solo creamos un conjunto con datos originales, pues queremos que representen la realidad al máximo posible."
      ]
    },
    {
      "cell_type": "code",
      "execution_count": 44,
      "metadata": {
        "id": "Pub1N-IoJN-F"
      },
      "outputs": [],
      "source": [
        "train_original_dataset = CustomImageDataset(directory='archive/train', transform=original_transform)\n",
        "train_augmented_dataset = CustomImageDataset(directory='archive/train', transform=augmented_transform)\n",
        "\n",
        "valid_original_dataset = CustomImageDataset(directory='archive/valid', transform=original_transform)\n",
        "\n",
        "test_original_dataset = CustomImageDataset(directory='archive/test', transform=original_transform)"
      ]
    },
    {
      "cell_type": "markdown",
      "metadata": {},
      "source": [
        "Posteriormente, definimos los DataLoaders, que nos permitirán cargar los datos, gestionando automáticamente el procesamiento en lotes y el shuffle de las muestras. Hemos decidido utilizar un tamaño de batch de 16."
      ]
    },
    {
      "cell_type": "code",
      "execution_count": null,
      "metadata": {},
      "outputs": [],
      "source": [
        "def set_seed(seed):\n",
        "    torch.manual_seed(seed)\n",
        "    torch.cuda.manual_seed(seed)\n",
        "    torch.cuda.manual_seed_all(seed)  # Si usas múltiples GPUs\n",
        "    np.random.seed(seed)\n",
        "    random.seed(seed)\n",
        "    torch.backends.cudnn.deterministic = True\n",
        "    torch.backends.cudnn.benchmark = False\n",
        "\n",
        "set_seed(0)"
      ]
    },
    {
      "cell_type": "code",
      "execution_count": 45,
      "metadata": {
        "id": "DqMBvJhpJN-F"
      },
      "outputs": [],
      "source": [
        "train_original_loader = DataLoader(dataset=train_original_dataset, batch_size=16, shuffle=True)\n",
        "train_augmented_loader = DataLoader(dataset=train_augmented_dataset, batch_size=16, shuffle=True)\n",
        "\n",
        "valid_original_loader = DataLoader(dataset=valid_original_dataset, batch_size=16, shuffle=False)\n",
        "\n",
        "test_original_loader = DataLoader(dataset=test_original_dataset, batch_size=16, shuffle=False)"
      ]
    },
    {
      "cell_type": "markdown",
      "metadata": {},
      "source": [
        "## 2. Entrenamiento"
      ]
    },
    {
      "cell_type": "markdown",
      "metadata": {},
      "source": [
        "### 2.1. Elección"
      ]
    },
    {
      "cell_type": "markdown",
      "metadata": {},
      "source": [
        "Para entrenar hemos creado 3 modelos en el archivo _models.py_:\n",
        "1. Un modelo de CNN clásico, básico y poco profundo.\n",
        "2. Un modelo más profundo que incluye capas residuales.\n",
        "3. Un modelo que utiliza Transfer Learning para utilizar la potencia de DenseNet, red preentrenada."
      ]
    },
    {
      "cell_type": "code",
      "execution_count": 46,
      "metadata": {},
      "outputs": [
        {
          "name": "stdout",
          "output_type": "stream",
          "text": [
            "Modelo seleccionado: MyCNN\n"
          ]
        }
      ],
      "source": [
        "from models import MyCNN, MyResidualNet, MyCNNWithTransferLearning\n",
        "\n",
        "models = {1: MyCNN, 2: MyResidualNet, 3: MyCNNWithTransferLearning}\n",
        "eleccion = int(input(\"Elija el modelo a utilizar: \\n1. MyCNN\\n2. MyResidualNet\\n3. MyCNNWithTransferLearning\\n\"))\n",
        "\n",
        "if eleccion in [1, 2, 3]:\n",
        "    model = models[eleccion]()\n",
        "    print(f\"Modelo seleccionado: {model.__class__.__name__}\")\n",
        "else:\n",
        "    print(\"Modelo no válido\")\n",
        "    exit()"
      ]
    },
    {
      "cell_type": "markdown",
      "metadata": {},
      "source": [
        "También añadimos la opción de usar el conjunto de datos original o augmented."
      ]
    },
    {
      "cell_type": "code",
      "execution_count": 47,
      "metadata": {},
      "outputs": [
        {
          "name": "stdout",
          "output_type": "stream",
          "text": [
            "Dataset seleccionado: Original\n"
          ]
        }
      ],
      "source": [
        "datasets = {'original': train_original_loader, 'augmented': train_augmented_loader}\n",
        "eleccion = int(input(\"Elija el dataset a utilizar: \\n1. Original\\n2. Augmented\\n\"))\n",
        "\n",
        "if eleccion in [1, 2]:\n",
        "    dataset = datasets['original' if eleccion == 1 else 'augmented']\n",
        "    print(f\"Dataset seleccionado: {'Original' if eleccion == 1 else 'Augmented'}\")\n",
        "else:\n",
        "    print(\"Dataset no válido\")\n",
        "    exit()"
      ]
    },
    {
      "cell_type": "markdown",
      "metadata": {},
      "source": [
        "Definimos el device donde vamos a ejecutar el entrenamiento"
      ]
    },
    {
      "cell_type": "code",
      "execution_count": 48,
      "metadata": {
        "colab": {
          "base_uri": "https://localhost:8080/"
        },
        "id": "v32GaQpMJN-G",
        "outputId": "55a49fc1-cb18-47a4-837a-4560d0e4ffbf"
      },
      "outputs": [
        {
          "name": "stdout",
          "output_type": "stream",
          "text": [
            "cpu\n"
          ]
        }
      ],
      "source": [
        "device = \"cuda\" if torch.cuda.is_available() else \"cpu\"\n",
        "print(device)"
      ]
    },
    {
      "cell_type": "markdown",
      "metadata": {},
      "source": [
        "Además, podemos ver las diferentes capas del modelo:"
      ]
    },
    {
      "cell_type": "code",
      "execution_count": 49,
      "metadata": {},
      "outputs": [
        {
          "name": "stdout",
          "output_type": "stream",
          "text": [
            "MyCNN(\n",
            "  (conv1): Conv2d(3, 16, kernel_size=(3, 3), stride=(1, 1), padding=(1, 1))\n",
            "  (conv2): Conv2d(16, 32, kernel_size=(3, 3), stride=(1, 1), padding=(1, 1))\n",
            "  (conv3): Conv2d(32, 64, kernel_size=(3, 3), stride=(1, 1), padding=(1, 1))\n",
            "  (fc1): Linear(in_features=50176, out_features=512, bias=True)\n",
            "  (fc2): Linear(in_features=512, out_features=10, bias=True)\n",
            "  (pool): MaxPool2d(kernel_size=2, stride=2, padding=0, dilation=1, ceil_mode=False)\n",
            "  (relu): ReLU()\n",
            ")\n"
          ]
        }
      ],
      "source": [
        "model = model.to(device)\n",
        "print(model)"
      ]
    },
    {
      "cell_type": "markdown",
      "metadata": {},
      "source": [
        "### 2.2. Hiperparámetros"
      ]
    },
    {
      "cell_type": "markdown",
      "metadata": {},
      "source": [
        "En la siguiente celda podemos modificar los principales hiperparámetros del entrenamiento."
      ]
    },
    {
      "cell_type": "code",
      "execution_count": 50,
      "metadata": {
        "id": "vv9z-EPxJN-H"
      },
      "outputs": [],
      "source": [
        "# Loss function\n",
        "loss_fn = nn.CrossEntropyLoss()\n",
        "\n",
        "# Learning rate\n",
        "learning_rate = 1e-3\n",
        "\n",
        "# Batch size\n",
        "batch_size = 64\n",
        "\n",
        "# Optimizer\n",
        "optimizer = torch.optim.Adam(params=model.parameters(), lr=learning_rate)\n",
        "\n",
        "# Number of epochs\n",
        "num_epochs = 2"
      ]
    },
    {
      "cell_type": "markdown",
      "metadata": {},
      "source": [
        "### 2.3. Pasos de entrenamiento y validación"
      ]
    },
    {
      "cell_type": "markdown",
      "metadata": {},
      "source": [
        "En la siguiente función se define un paso de entrenamiento sobre el conjunto de datos."
      ]
    },
    {
      "cell_type": "code",
      "execution_count": 51,
      "metadata": {
        "id": "1tSh3rpbJN-H"
      },
      "outputs": [],
      "source": [
        "def train_step(dataloader, model, loss_fn, optimizer):\n",
        "    size = len(dataloader.dataset)\n",
        "\n",
        "    acc_list = [] # Accuracy list\n",
        "    loss_list = [] # Loss list\n",
        "\n",
        "    model.train()\n",
        "    for batch_idx, (X, y) in enumerate(dataloader):\n",
        "        # Move tensors to the configured device\n",
        "        X, y = X.to(device), y.to(device)\n",
        "\n",
        "        # Compute prediction and loss\n",
        "        logits = model(X)\n",
        "        loss = loss_fn(logits, y)\n",
        "        correct = (logits.argmax(1) == y).type(torch.float).sum().item()\n",
        "        correct /= len(X)\n",
        "\n",
        "        # Backpropagation\n",
        "        loss.backward()\n",
        "        optimizer.step()\n",
        "        optimizer.zero_grad()\n",
        "\n",
        "        # Save the accuracy and loss\n",
        "        loss_list.append(loss.item())\n",
        "        acc_list.append(100*correct)\n",
        "\n",
        "        if batch_idx % 10 == 0:\n",
        "          current = batch_idx * len(X) + len(X)\n",
        "          loss = loss.item()\n",
        "          print(f\"TRAINING: Avg. Accuracy {(100*correct):>0.3f}    Avg. Loss: {loss:>7f}    Range: [{current:>5d}/{size:>5d}]\")\n",
        "          \n",
        "    return np.average(acc_list), np.average(loss_list)"
      ]
    },
    {
      "cell_type": "markdown",
      "metadata": {},
      "source": [
        "En esta otra función se define el validation_step."
      ]
    },
    {
      "cell_type": "code",
      "execution_count": 52,
      "metadata": {
        "id": "JPKEQJJTJN-I"
      },
      "outputs": [],
      "source": [
        "def validation_step(dataloader, model, loss_fn):\n",
        "    model.eval()\n",
        "\n",
        "    size = len(dataloader.dataset)\n",
        "    num_batches = len(dataloader)\n",
        "    val_loss, correct = 0, 0\n",
        "\n",
        "    # Evaluate the model\n",
        "    with torch.no_grad():\n",
        "        for X, y in dataloader:\n",
        "            # Move tensors to device\n",
        "            X, y = X.to(device), y.to(device)\n",
        "\n",
        "            # Compute prediction and loss\n",
        "            logits = model(X)\n",
        "            val_loss += loss_fn(logits, y).item()\n",
        "            correct += (logits.argmax(1) == y).type(torch.float).sum().item()\n",
        "\n",
        "    val_loss /= num_batches\n",
        "    correct /= size\n",
        "    val_accuracy = 100*correct\n",
        "    print(f\"\\n   VALIDATION: Accuracy: {(val_accuracy):>0.3f}%, Avg loss: {val_loss:>8f} \\n\")\n",
        "    return val_accuracy, val_loss"
      ]
    },
    {
      "cell_type": "markdown",
      "metadata": {},
      "source": [
        "Finalmente, procedemos a entrenar nuestro modelo elegido. Como se observa, también guardamos las métricas de accuracy y la pérdida a lo largo de las épocas, con la intención de graficarlas posteriormente."
      ]
    },
    {
      "cell_type": "code",
      "execution_count": 53,
      "metadata": {
        "colab": {
          "base_uri": "https://localhost:8080/"
        },
        "id": "5FwiMBpIJN-I",
        "outputId": "2cc5a235-930c-4310-ec61-f269489cb389"
      },
      "outputs": [
        {
          "name": "stdout",
          "output_type": "stream",
          "text": [
            "Epoch 1\n",
            "-------------------------------\n",
            "TRAINING: Avg. Accuracy 0.000    Avg. Loss: 2.305622    Range: [   16/ 1535]\n",
            "TRAINING: Avg. Accuracy 31.250    Avg. Loss: 2.179883    Range: [  176/ 1535]\n",
            "TRAINING: Avg. Accuracy 31.250    Avg. Loss: 1.811871    Range: [  336/ 1535]\n",
            "TRAINING: Avg. Accuracy 50.000    Avg. Loss: 1.510635    Range: [  496/ 1535]\n",
            "TRAINING: Avg. Accuracy 50.000    Avg. Loss: 1.584528    Range: [  656/ 1535]\n",
            "TRAINING: Avg. Accuracy 56.250    Avg. Loss: 1.394183    Range: [  816/ 1535]\n",
            "TRAINING: Avg. Accuracy 31.250    Avg. Loss: 1.673587    Range: [  976/ 1535]\n",
            "TRAINING: Avg. Accuracy 50.000    Avg. Loss: 1.497507    Range: [ 1136/ 1535]\n",
            "TRAINING: Avg. Accuracy 62.500    Avg. Loss: 1.003292    Range: [ 1296/ 1535]\n",
            "TRAINING: Avg. Accuracy 43.750    Avg. Loss: 1.411900    Range: [ 1456/ 1535]\n",
            "\n",
            "   VALIDATION: Accuracy: 44.000%, Avg loss: 1.817678 \n",
            "\n",
            "Epoch 2\n",
            "-------------------------------\n",
            "TRAINING: Avg. Accuracy 50.000    Avg. Loss: 1.239379    Range: [   16/ 1535]\n",
            "TRAINING: Avg. Accuracy 68.750    Avg. Loss: 0.917327    Range: [  176/ 1535]\n",
            "TRAINING: Avg. Accuracy 56.250    Avg. Loss: 0.975591    Range: [  336/ 1535]\n",
            "TRAINING: Avg. Accuracy 75.000    Avg. Loss: 0.844128    Range: [  496/ 1535]\n",
            "TRAINING: Avg. Accuracy 68.750    Avg. Loss: 0.787746    Range: [  656/ 1535]\n",
            "TRAINING: Avg. Accuracy 68.750    Avg. Loss: 0.761348    Range: [  816/ 1535]\n",
            "TRAINING: Avg. Accuracy 62.500    Avg. Loss: 0.900222    Range: [  976/ 1535]\n",
            "TRAINING: Avg. Accuracy 68.750    Avg. Loss: 0.772819    Range: [ 1136/ 1535]\n",
            "TRAINING: Avg. Accuracy 87.500    Avg. Loss: 0.618523    Range: [ 1296/ 1535]\n",
            "TRAINING: Avg. Accuracy 62.500    Avg. Loss: 1.025819    Range: [ 1456/ 1535]\n",
            "\n",
            "   VALIDATION: Accuracy: 62.000%, Avg loss: 1.150488 \n",
            "\n",
            "Done!\n"
          ]
        }
      ],
      "source": [
        "metrics = pd.DataFrame(columns=['train_acc', 'val_acc', 'train_loss', 'val_loss'])\n",
        "\n",
        "for t in range(num_epochs):\n",
        "    print(f\"Epoch {t+1}\\n-------------------------------\")\n",
        "    train_acc, train_loss = train_step(dataset, model, loss_fn, optimizer)\n",
        "    val_acc, val_loss = validation_step(valid_original_loader, model, loss_fn)\n",
        "    metrics.loc[t+1] = [train_acc, val_acc, train_loss, val_loss]\n",
        "print(\"Done!\")"
      ]
    },
    {
      "cell_type": "code",
      "execution_count": 54,
      "metadata": {},
      "outputs": [
        {
          "data": {
            "image/png": "[encoded data removed]",
            "text/plain": [
              "<Figure size 640x480 with 2 Axes>"
            ]
          },
          "metadata": {},
          "output_type": "display_data"
        }
      ],
      "source": [
        "fig, axs = plt.subplots(2)\n",
        "fig.suptitle('Training Metrics')\n",
        "axs[0].plot(metrics['train_loss'], label='train_loss')\n",
        "axs[0].plot(metrics['val_loss'], label='val_loss')\n",
        "axs[0].legend()\n",
        "\n",
        "axs[1].plot(metrics['train_acc'], label='train_acc')\n",
        "axs[1].plot(metrics['val_acc'], label='val_acc')\n",
        "axs[1].legend()\n",
        "\n",
        "plt.show()"
      ]
    }
  ],
  "metadata": {
    "accelerator": "GPU",
    "colab": {
      "gpuType": "T4",
      "provenance": []
    },
    "kernelspec": {
      "display_name": "Python 3",
      "name": "python3"
    },
    "language_info": {
      "codemirror_mode": {
        "name": "ipython",
        "version": 3
      },
      "file_extension": ".py",
      "mimetype": "text/x-python",
      "name": "python",
      "nbconvert_exporter": "python",
      "pygments_lexer": "ipython3",
      "version": "3.9.6"
    }
  },
  "nbformat": 4,
  "nbformat_minor": 0
}
