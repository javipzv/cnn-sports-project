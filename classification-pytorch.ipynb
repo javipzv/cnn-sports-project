{
 "cells": [
  {
   "cell_type": "code",
   "execution_count": 1,
   "metadata": {},
   "outputs": [],
   "source": [
    "import os\n",
    "import torch\n",
    "from torch.utils.data import Dataset, DataLoader\n",
    "from torchvision import transforms\n",
    "from PIL import Image"
   ]
  },
  {
   "cell_type": "markdown",
   "metadata": {},
   "source": [
    "## Definimos la clase Dataset "
   ]
  },
  {
   "cell_type": "code",
   "execution_count": 2,
   "metadata": {},
   "outputs": [],
   "source": [
    "class CustomImageDataset(Dataset):\n",
    "    def __init__(self, directory, transform=None):\n",
    "        self.directory = directory\n",
    "        self.transform = transform\n",
    "        self.image_paths = []\n",
    "        self.labels = []\n",
    "        \n",
    "        # Obtener las clases (subdirectorios) y asignar un número\n",
    "        self.class_names = sorted(os.listdir(directory))\n",
    "        self.class_to_idx = {class_name: idx for idx, class_name in enumerate(self.class_names)}\n",
    "        \n",
    "        # Recorremos las carpetas y archivos\n",
    "        for class_name in self.class_names:\n",
    "            class_path = os.path.join(directory, class_name)\n",
    "            if os.path.isdir(class_path):\n",
    "                for file_name in os.listdir(class_path):\n",
    "                    if file_name.endswith(('.jpg', '.png')):  # Filtra los tipos de archivo\n",
    "                        self.image_paths.append(os.path.join(class_path, file_name))\n",
    "                        self.labels.append(self.class_to_idx[class_name])\n",
    "    \n",
    "    def __len__(self):\n",
    "        return len(self.image_paths)\n",
    "    \n",
    "    def __getitem__(self, idx):\n",
    "        img_path = self.image_paths[idx]\n",
    "        label = self.labels[idx]\n",
    "        img = Image.open(img_path)\n",
    "        \n",
    "        if self.transform:\n",
    "            img = self.transform(img)\n",
    "        \n",
    "        return img, label"
   ]
  },
  {
   "cell_type": "code",
   "execution_count": 3,
   "metadata": {},
   "outputs": [],
   "source": [
    "original_transform = transforms.Compose([\n",
    "    transforms.Resize((224, 224)),  # Redimensiona la imagen\n",
    "    transforms.ToTensor(),  # Convierte la imagen a un tensor\n",
    "    transforms.Normalize(mean=[0.485, 0.456, 0.406], std=[0.229, 0.224, 0.225])  # Normaliza la imagen\n",
    "])\n",
    "\n",
    "augmented_transform = transforms.Compose([\n",
    "    transforms.Resize((224, 224)),  # Redimensiona la imagen\n",
    "    transforms.RandomHorizontalFlip(),  # Aplica un flip horizontal aleatorio\n",
    "    transforms.RandomRotation(30),  # Rota aleatoriamente la imagen entre -30 y 30 grados\n",
    "    transforms.ColorJitter(brightness=0.2, contrast=0.2, saturation=0.2, hue=0.2),  # Cambia aleatoriamente el brillo, el contraste, la saturación y el matiz\n",
    "    transforms.ToTensor(),  # Convierte la imagen a un tensor\n",
    "    transforms.Normalize(mean=[0.485, 0.456, 0.406], std=[0.229, 0.224, 0.225])  # Normaliza la imagen\n",
    "])"
   ]
  },
  {
   "cell_type": "code",
   "execution_count": null,
   "metadata": {},
   "outputs": [],
   "source": [
    "train_original_dataset = CustomImageDataset(directory='archive/train', transform=original_transform)\n",
    "train_augmented_dataset = CustomImageDataset(directory='archive/train', transform=augmented_transform)\n",
    "\n",
    "valid_original_dataset = CustomImageDataset(directory='archive/valid', transform=original_transform)\n",
    "\n",
    "test_original_dataset = CustomImageDataset(directory='archive/test', transform=original_transform)"
   ]
  },
  {
   "cell_type": "code",
   "execution_count": null,
   "metadata": {},
   "outputs": [],
   "source": [
    "train_original_loader = DataLoader(dataset=train_original_dataset, batch_size=32, shuffle=True)\n",
    "train_augmented_loader = DataLoader(dataset=train_augmented_dataset, batch_size=32, shuffle=True)\n",
    "\n",
    "valid_original_loader = DataLoader(dataset=valid_original_dataset, batch_size=32, shuffle=False)\n",
    "\n",
    "test_original_loader = DataLoader(dataset=test_original_dataset, batch_size=32, shuffle=False)"
   ]
  }
 ],
 "metadata": {
  "kernelspec": {
   "display_name": "Python 3",
   "language": "python",
   "name": "python3"
  },
  "language_info": {
   "codemirror_mode": {
    "name": "ipython",
    "version": 3
   },
   "file_extension": ".py",
   "mimetype": "text/x-python",
   "name": "python",
   "nbconvert_exporter": "python",
   "pygments_lexer": "ipython3",
   "version": "3.9.6"
  }
 },
 "nbformat": 4,
 "nbformat_minor": 2
}
